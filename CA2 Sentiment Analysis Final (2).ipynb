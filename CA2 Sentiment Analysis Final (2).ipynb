{
 "cells": [
  {
   "cell_type": "code",
   "execution_count": 1,
   "id": "85d3c9a6",
   "metadata": {
    "scrolled": false
   },
   "outputs": [
    {
     "name": "stderr",
     "output_type": "stream",
     "text": [
      "[nltk_data] Downloading package stopwords to\n",
      "[nltk_data]     C:\\Users\\paddy\\AppData\\Roaming\\nltk_data...\n",
      "[nltk_data]   Package stopwords is already up-to-date!\n",
      "[nltk_data] Downloading package wordnet to\n",
      "[nltk_data]     C:\\Users\\paddy\\AppData\\Roaming\\nltk_data...\n",
      "[nltk_data]   Package wordnet is already up-to-date!\n",
      "[nltk_data] Downloading package punkt to\n",
      "[nltk_data]     C:\\Users\\paddy\\AppData\\Roaming\\nltk_data...\n",
      "[nltk_data]   Package punkt is already up-to-date!\n"
     ]
    }
   ],
   "source": [
    "import pandas as pd\n",
    "import numpy as np\n",
    "import seaborn as sns\n",
    "import re\n",
    "import calendar\n",
    "import datetime\n",
    "import string\n",
    "from string import punctuation\n",
    "import nltk\n",
    "from nltk.corpus import stopwords\n",
    "nltk.download(\"stopwords\")\n",
    "from nltk.tokenize import word_tokenize\n",
    "from nltk.stem import WordNetLemmatizer\n",
    "nltk.download('wordnet')\n",
    "nltk.download('punkt')\n",
    "import matplotlib.pyplot as plt"
   ]
  },
  {
   "cell_type": "code",
   "execution_count": 2,
   "id": "d8249263",
   "metadata": {},
   "outputs": [
    {
     "data": {
      "text/html": [
       "<div>\n",
       "<style scoped>\n",
       "    .dataframe tbody tr th:only-of-type {\n",
       "        vertical-align: middle;\n",
       "    }\n",
       "\n",
       "    .dataframe tbody tr th {\n",
       "        vertical-align: top;\n",
       "    }\n",
       "\n",
       "    .dataframe thead th {\n",
       "        text-align: right;\n",
       "    }\n",
       "</style>\n",
       "<table border=\"1\" class=\"dataframe\">\n",
       "  <thead>\n",
       "    <tr style=\"text-align: right;\">\n",
       "      <th></th>\n",
       "      <th>ids</th>\n",
       "      <th>date</th>\n",
       "      <th>flag</th>\n",
       "      <th>user</th>\n",
       "      <th>text</th>\n",
       "    </tr>\n",
       "  </thead>\n",
       "  <tbody>\n",
       "    <tr>\n",
       "      <th>0</th>\n",
       "      <td>1467810369</td>\n",
       "      <td>Mon Apr 06 22:19:45 PDT 2009</td>\n",
       "      <td>NO_QUERY</td>\n",
       "      <td>_TheSpecialOne_</td>\n",
       "      <td>@switchfoot http://twitpic.com/2y1zl - Awww, t...</td>\n",
       "    </tr>\n",
       "    <tr>\n",
       "      <th>1</th>\n",
       "      <td>1467810672</td>\n",
       "      <td>Mon Apr 06 22:19:49 PDT 2009</td>\n",
       "      <td>NO_QUERY</td>\n",
       "      <td>scotthamilton</td>\n",
       "      <td>is upset that he can't update his Facebook by ...</td>\n",
       "    </tr>\n",
       "    <tr>\n",
       "      <th>2</th>\n",
       "      <td>1467810917</td>\n",
       "      <td>Mon Apr 06 22:19:53 PDT 2009</td>\n",
       "      <td>NO_QUERY</td>\n",
       "      <td>mattycus</td>\n",
       "      <td>@Kenichan I dived many times for the ball. Man...</td>\n",
       "    </tr>\n",
       "    <tr>\n",
       "      <th>3</th>\n",
       "      <td>1467811184</td>\n",
       "      <td>Mon Apr 06 22:19:57 PDT 2009</td>\n",
       "      <td>NO_QUERY</td>\n",
       "      <td>ElleCTF</td>\n",
       "      <td>my whole body feels itchy and like its on fire</td>\n",
       "    </tr>\n",
       "    <tr>\n",
       "      <th>4</th>\n",
       "      <td>1467811193</td>\n",
       "      <td>Mon Apr 06 22:19:57 PDT 2009</td>\n",
       "      <td>NO_QUERY</td>\n",
       "      <td>Karoli</td>\n",
       "      <td>@nationwideclass no, it's not behaving at all....</td>\n",
       "    </tr>\n",
       "    <tr>\n",
       "      <th>5</th>\n",
       "      <td>1467811372</td>\n",
       "      <td>Mon Apr 06 22:20:00 PDT 2009</td>\n",
       "      <td>NO_QUERY</td>\n",
       "      <td>joy_wolf</td>\n",
       "      <td>@Kwesidei not the whole crew</td>\n",
       "    </tr>\n",
       "    <tr>\n",
       "      <th>6</th>\n",
       "      <td>1467811592</td>\n",
       "      <td>Mon Apr 06 22:20:03 PDT 2009</td>\n",
       "      <td>NO_QUERY</td>\n",
       "      <td>mybirch</td>\n",
       "      <td>Need a hug</td>\n",
       "    </tr>\n",
       "    <tr>\n",
       "      <th>7</th>\n",
       "      <td>1467811594</td>\n",
       "      <td>Mon Apr 06 22:20:03 PDT 2009</td>\n",
       "      <td>NO_QUERY</td>\n",
       "      <td>coZZ</td>\n",
       "      <td>@LOLTrish hey  long time no see! Yes.. Rains a...</td>\n",
       "    </tr>\n",
       "    <tr>\n",
       "      <th>8</th>\n",
       "      <td>1467811795</td>\n",
       "      <td>Mon Apr 06 22:20:05 PDT 2009</td>\n",
       "      <td>NO_QUERY</td>\n",
       "      <td>2Hood4Hollywood</td>\n",
       "      <td>@Tatiana_K nope they didn't have it</td>\n",
       "    </tr>\n",
       "    <tr>\n",
       "      <th>9</th>\n",
       "      <td>1467812025</td>\n",
       "      <td>Mon Apr 06 22:20:09 PDT 2009</td>\n",
       "      <td>NO_QUERY</td>\n",
       "      <td>mimismo</td>\n",
       "      <td>@twittera que me muera ?</td>\n",
       "    </tr>\n",
       "  </tbody>\n",
       "</table>\n",
       "</div>"
      ],
      "text/plain": [
       "          ids                          date      flag             user  \\\n",
       "0  1467810369  Mon Apr 06 22:19:45 PDT 2009  NO_QUERY  _TheSpecialOne_   \n",
       "1  1467810672  Mon Apr 06 22:19:49 PDT 2009  NO_QUERY    scotthamilton   \n",
       "2  1467810917  Mon Apr 06 22:19:53 PDT 2009  NO_QUERY         mattycus   \n",
       "3  1467811184  Mon Apr 06 22:19:57 PDT 2009  NO_QUERY          ElleCTF   \n",
       "4  1467811193  Mon Apr 06 22:19:57 PDT 2009  NO_QUERY           Karoli   \n",
       "5  1467811372  Mon Apr 06 22:20:00 PDT 2009  NO_QUERY         joy_wolf   \n",
       "6  1467811592  Mon Apr 06 22:20:03 PDT 2009  NO_QUERY          mybirch   \n",
       "7  1467811594  Mon Apr 06 22:20:03 PDT 2009  NO_QUERY             coZZ   \n",
       "8  1467811795  Mon Apr 06 22:20:05 PDT 2009  NO_QUERY  2Hood4Hollywood   \n",
       "9  1467812025  Mon Apr 06 22:20:09 PDT 2009  NO_QUERY          mimismo   \n",
       "\n",
       "                                                text  \n",
       "0  @switchfoot http://twitpic.com/2y1zl - Awww, t...  \n",
       "1  is upset that he can't update his Facebook by ...  \n",
       "2  @Kenichan I dived many times for the ball. Man...  \n",
       "3    my whole body feels itchy and like its on fire   \n",
       "4  @nationwideclass no, it's not behaving at all....  \n",
       "5                      @Kwesidei not the whole crew   \n",
       "6                                        Need a hug   \n",
       "7  @LOLTrish hey  long time no see! Yes.. Rains a...  \n",
       "8               @Tatiana_K nope they didn't have it   \n",
       "9                          @twittera que me muera ?   "
      ]
     },
     "execution_count": 2,
     "metadata": {},
     "output_type": "execute_result"
    }
   ],
   "source": [
    "df = pd.read_csv('ProjectTweets.csv', header = None, names = ['ids', 'date', 'flag', 'user', 'text'])  \n",
    "\n",
    "df.head(10) # importing initial dataset with column headers"
   ]
  },
  {
   "cell_type": "code",
   "execution_count": 3,
   "id": "c6554056",
   "metadata": {},
   "outputs": [
    {
     "data": {
      "text/html": [
       "<div>\n",
       "<style scoped>\n",
       "    .dataframe tbody tr th:only-of-type {\n",
       "        vertical-align: middle;\n",
       "    }\n",
       "\n",
       "    .dataframe tbody tr th {\n",
       "        vertical-align: top;\n",
       "    }\n",
       "\n",
       "    .dataframe thead th {\n",
       "        text-align: right;\n",
       "    }\n",
       "</style>\n",
       "<table border=\"1\" class=\"dataframe\">\n",
       "  <thead>\n",
       "    <tr style=\"text-align: right;\">\n",
       "      <th></th>\n",
       "      <th>ids</th>\n",
       "      <th>date</th>\n",
       "      <th>flag</th>\n",
       "      <th>user</th>\n",
       "      <th>text</th>\n",
       "    </tr>\n",
       "  </thead>\n",
       "  <tbody>\n",
       "    <tr>\n",
       "      <th>1599990</th>\n",
       "      <td>2193579249</td>\n",
       "      <td>Tue Jun 16 08:38:59 PDT 2009</td>\n",
       "      <td>NO_QUERY</td>\n",
       "      <td>razzberry5594</td>\n",
       "      <td>WOOOOO! Xbox is back</td>\n",
       "    </tr>\n",
       "    <tr>\n",
       "      <th>1599991</th>\n",
       "      <td>2193579284</td>\n",
       "      <td>Tue Jun 16 08:38:59 PDT 2009</td>\n",
       "      <td>NO_QUERY</td>\n",
       "      <td>AgustinaP</td>\n",
       "      <td>@rmedina @LaTati Mmmm  That sounds absolutely ...</td>\n",
       "    </tr>\n",
       "    <tr>\n",
       "      <th>1599992</th>\n",
       "      <td>2193579434</td>\n",
       "      <td>Tue Jun 16 08:39:00 PDT 2009</td>\n",
       "      <td>NO_QUERY</td>\n",
       "      <td>sdancingsteph</td>\n",
       "      <td>ReCoVeRiNg FrOm ThE lOnG wEeKeNd</td>\n",
       "    </tr>\n",
       "    <tr>\n",
       "      <th>1599993</th>\n",
       "      <td>2193579477</td>\n",
       "      <td>Tue Jun 16 08:39:00 PDT 2009</td>\n",
       "      <td>NO_QUERY</td>\n",
       "      <td>ChloeAmisha</td>\n",
       "      <td>@SCOOBY_GRITBOYS</td>\n",
       "    </tr>\n",
       "    <tr>\n",
       "      <th>1599994</th>\n",
       "      <td>2193579489</td>\n",
       "      <td>Tue Jun 16 08:39:00 PDT 2009</td>\n",
       "      <td>NO_QUERY</td>\n",
       "      <td>EvolveTom</td>\n",
       "      <td>@Cliff_Forster Yeah, that does work better tha...</td>\n",
       "    </tr>\n",
       "    <tr>\n",
       "      <th>1599995</th>\n",
       "      <td>2193601966</td>\n",
       "      <td>Tue Jun 16 08:40:49 PDT 2009</td>\n",
       "      <td>NO_QUERY</td>\n",
       "      <td>AmandaMarie1028</td>\n",
       "      <td>Just woke up. Having no school is the best fee...</td>\n",
       "    </tr>\n",
       "    <tr>\n",
       "      <th>1599996</th>\n",
       "      <td>2193601969</td>\n",
       "      <td>Tue Jun 16 08:40:49 PDT 2009</td>\n",
       "      <td>NO_QUERY</td>\n",
       "      <td>TheWDBoards</td>\n",
       "      <td>TheWDB.com - Very cool to hear old Walt interv...</td>\n",
       "    </tr>\n",
       "    <tr>\n",
       "      <th>1599997</th>\n",
       "      <td>2193601991</td>\n",
       "      <td>Tue Jun 16 08:40:49 PDT 2009</td>\n",
       "      <td>NO_QUERY</td>\n",
       "      <td>bpbabe</td>\n",
       "      <td>Are you ready for your MoJo Makeover? Ask me f...</td>\n",
       "    </tr>\n",
       "    <tr>\n",
       "      <th>1599998</th>\n",
       "      <td>2193602064</td>\n",
       "      <td>Tue Jun 16 08:40:49 PDT 2009</td>\n",
       "      <td>NO_QUERY</td>\n",
       "      <td>tinydiamondz</td>\n",
       "      <td>Happy 38th Birthday to my boo of alll time!!! ...</td>\n",
       "    </tr>\n",
       "    <tr>\n",
       "      <th>1599999</th>\n",
       "      <td>2193602129</td>\n",
       "      <td>Tue Jun 16 08:40:50 PDT 2009</td>\n",
       "      <td>NO_QUERY</td>\n",
       "      <td>RyanTrevMorris</td>\n",
       "      <td>happy #charitytuesday @theNSPCC @SparksCharity...</td>\n",
       "    </tr>\n",
       "  </tbody>\n",
       "</table>\n",
       "</div>"
      ],
      "text/plain": [
       "                ids                          date      flag             user  \\\n",
       "1599990  2193579249  Tue Jun 16 08:38:59 PDT 2009  NO_QUERY    razzberry5594   \n",
       "1599991  2193579284  Tue Jun 16 08:38:59 PDT 2009  NO_QUERY        AgustinaP   \n",
       "1599992  2193579434  Tue Jun 16 08:39:00 PDT 2009  NO_QUERY    sdancingsteph   \n",
       "1599993  2193579477  Tue Jun 16 08:39:00 PDT 2009  NO_QUERY      ChloeAmisha   \n",
       "1599994  2193579489  Tue Jun 16 08:39:00 PDT 2009  NO_QUERY        EvolveTom   \n",
       "1599995  2193601966  Tue Jun 16 08:40:49 PDT 2009  NO_QUERY  AmandaMarie1028   \n",
       "1599996  2193601969  Tue Jun 16 08:40:49 PDT 2009  NO_QUERY      TheWDBoards   \n",
       "1599997  2193601991  Tue Jun 16 08:40:49 PDT 2009  NO_QUERY           bpbabe   \n",
       "1599998  2193602064  Tue Jun 16 08:40:49 PDT 2009  NO_QUERY     tinydiamondz   \n",
       "1599999  2193602129  Tue Jun 16 08:40:50 PDT 2009  NO_QUERY   RyanTrevMorris   \n",
       "\n",
       "                                                      text  \n",
       "1599990                              WOOOOO! Xbox is back   \n",
       "1599991  @rmedina @LaTati Mmmm  That sounds absolutely ...  \n",
       "1599992                  ReCoVeRiNg FrOm ThE lOnG wEeKeNd   \n",
       "1599993                                  @SCOOBY_GRITBOYS   \n",
       "1599994  @Cliff_Forster Yeah, that does work better tha...  \n",
       "1599995  Just woke up. Having no school is the best fee...  \n",
       "1599996  TheWDB.com - Very cool to hear old Walt interv...  \n",
       "1599997  Are you ready for your MoJo Makeover? Ask me f...  \n",
       "1599998  Happy 38th Birthday to my boo of alll time!!! ...  \n",
       "1599999  happy #charitytuesday @theNSPCC @SparksCharity...  "
      ]
     },
     "execution_count": 3,
     "metadata": {},
     "output_type": "execute_result"
    }
   ],
   "source": [
    "df.tail(10)"
   ]
  },
  {
   "cell_type": "code",
   "execution_count": 4,
   "id": "0b2dc84d",
   "metadata": {},
   "outputs": [
    {
     "name": "stdout",
     "output_type": "stream",
     "text": [
      "<class 'pandas.core.frame.DataFrame'>\n",
      "Int64Index: 1600000 entries, 0 to 1599999\n",
      "Data columns (total 5 columns):\n",
      " #   Column  Non-Null Count    Dtype \n",
      "---  ------  --------------    ----- \n",
      " 0   ids     1600000 non-null  int64 \n",
      " 1   date    1600000 non-null  object\n",
      " 2   flag    1600000 non-null  object\n",
      " 3   user    1600000 non-null  object\n",
      " 4   text    1600000 non-null  object\n",
      "dtypes: int64(1), object(4)\n",
      "memory usage: 73.2+ MB\n"
     ]
    }
   ],
   "source": [
    "df.info()"
   ]
  },
  {
   "cell_type": "code",
   "execution_count": 5,
   "id": "a0d83e86",
   "metadata": {},
   "outputs": [
    {
     "data": {
      "text/plain": [
       "array(['NO_QUERY', 'NO_QUERY', 'NO_QUERY', ..., 'NO_QUERY', 'NO_QUERY',\n",
       "       'NO_QUERY'], dtype=object)"
      ]
     },
     "execution_count": 5,
     "metadata": {},
     "output_type": "execute_result"
    }
   ],
   "source": [
    "df['flag'].values"
   ]
  },
  {
   "cell_type": "code",
   "execution_count": 6,
   "id": "d456f30f",
   "metadata": {},
   "outputs": [
    {
     "data": {
      "text/plain": [
       "array(['Mon Apr 06 22:19:45 PDT 2009', 'Mon Apr 06 22:19:49 PDT 2009',\n",
       "       'Mon Apr 06 22:19:53 PDT 2009', ...,\n",
       "       'Tue Jun 16 08:38:58 PDT 2009', 'Tue Jun 16 08:39:00 PDT 2009',\n",
       "       'Tue Jun 16 08:40:50 PDT 2009'], dtype=object)"
      ]
     },
     "execution_count": 6,
     "metadata": {},
     "output_type": "execute_result"
    }
   ],
   "source": [
    "#df['date'] = pd.to_datetime(df['date'], format = '%d%b%Y:%H:%M:%S.%f')\n",
    "\n",
    "df['date'].unique()"
   ]
  },
  {
   "cell_type": "code",
   "execution_count": 7,
   "id": "f33c2367",
   "metadata": {},
   "outputs": [
    {
     "data": {
      "text/html": [
       "<div>\n",
       "<style scoped>\n",
       "    .dataframe tbody tr th:only-of-type {\n",
       "        vertical-align: middle;\n",
       "    }\n",
       "\n",
       "    .dataframe tbody tr th {\n",
       "        vertical-align: top;\n",
       "    }\n",
       "\n",
       "    .dataframe thead th {\n",
       "        text-align: right;\n",
       "    }\n",
       "</style>\n",
       "<table border=\"1\" class=\"dataframe\">\n",
       "  <thead>\n",
       "    <tr style=\"text-align: right;\">\n",
       "      <th></th>\n",
       "      <th>ids</th>\n",
       "      <th>date</th>\n",
       "      <th>flag</th>\n",
       "      <th>user</th>\n",
       "      <th>text</th>\n",
       "    </tr>\n",
       "  </thead>\n",
       "  <tbody>\n",
       "    <tr>\n",
       "      <th>0</th>\n",
       "      <td>1467810369</td>\n",
       "      <td>Mon Apr 06 22:19:45 PDT 2009</td>\n",
       "      <td>NO_QUERY</td>\n",
       "      <td>_TheSpecialOne_</td>\n",
       "      <td>@switchfoot http://twitpic.com/2y1zl - Awww, t...</td>\n",
       "    </tr>\n",
       "    <tr>\n",
       "      <th>1</th>\n",
       "      <td>1467810672</td>\n",
       "      <td>Mon Apr 06 22:19:49 PDT 2009</td>\n",
       "      <td>NO_QUERY</td>\n",
       "      <td>scotthamilton</td>\n",
       "      <td>is upset that he can't update his Facebook by ...</td>\n",
       "    </tr>\n",
       "    <tr>\n",
       "      <th>2</th>\n",
       "      <td>1467810917</td>\n",
       "      <td>Mon Apr 06 22:19:53 PDT 2009</td>\n",
       "      <td>NO_QUERY</td>\n",
       "      <td>mattycus</td>\n",
       "      <td>@Kenichan I dived many times for the ball. Man...</td>\n",
       "    </tr>\n",
       "    <tr>\n",
       "      <th>3</th>\n",
       "      <td>1467811184</td>\n",
       "      <td>Mon Apr 06 22:19:57 PDT 2009</td>\n",
       "      <td>NO_QUERY</td>\n",
       "      <td>ElleCTF</td>\n",
       "      <td>my whole body feels itchy and like its on fire</td>\n",
       "    </tr>\n",
       "    <tr>\n",
       "      <th>4</th>\n",
       "      <td>1467811193</td>\n",
       "      <td>Mon Apr 06 22:19:57 PDT 2009</td>\n",
       "      <td>NO_QUERY</td>\n",
       "      <td>Karoli</td>\n",
       "      <td>@nationwideclass no, it's not behaving at all....</td>\n",
       "    </tr>\n",
       "  </tbody>\n",
       "</table>\n",
       "</div>"
      ],
      "text/plain": [
       "          ids                          date      flag             user  \\\n",
       "0  1467810369  Mon Apr 06 22:19:45 PDT 2009  NO_QUERY  _TheSpecialOne_   \n",
       "1  1467810672  Mon Apr 06 22:19:49 PDT 2009  NO_QUERY    scotthamilton   \n",
       "2  1467810917  Mon Apr 06 22:19:53 PDT 2009  NO_QUERY         mattycus   \n",
       "3  1467811184  Mon Apr 06 22:19:57 PDT 2009  NO_QUERY          ElleCTF   \n",
       "4  1467811193  Mon Apr 06 22:19:57 PDT 2009  NO_QUERY           Karoli   \n",
       "\n",
       "                                                text  \n",
       "0  @switchfoot http://twitpic.com/2y1zl - Awww, t...  \n",
       "1  is upset that he can't update his Facebook by ...  \n",
       "2  @Kenichan I dived many times for the ball. Man...  \n",
       "3    my whole body feels itchy and like its on fire   \n",
       "4  @nationwideclass no, it's not behaving at all....  "
      ]
     },
     "execution_count": 7,
     "metadata": {},
     "output_type": "execute_result"
    }
   ],
   "source": [
    "df.head(5)"
   ]
  },
  {
   "cell_type": "code",
   "execution_count": 8,
   "id": "4aa1743e",
   "metadata": {},
   "outputs": [
    {
     "data": {
      "text/html": [
       "<div>\n",
       "<style scoped>\n",
       "    .dataframe tbody tr th:only-of-type {\n",
       "        vertical-align: middle;\n",
       "    }\n",
       "\n",
       "    .dataframe tbody tr th {\n",
       "        vertical-align: top;\n",
       "    }\n",
       "\n",
       "    .dataframe thead th {\n",
       "        text-align: right;\n",
       "    }\n",
       "</style>\n",
       "<table border=\"1\" class=\"dataframe\">\n",
       "  <thead>\n",
       "    <tr style=\"text-align: right;\">\n",
       "      <th></th>\n",
       "      <th>ids</th>\n",
       "      <th>date</th>\n",
       "      <th>flag</th>\n",
       "      <th>user</th>\n",
       "      <th>text</th>\n",
       "    </tr>\n",
       "  </thead>\n",
       "  <tbody>\n",
       "    <tr>\n",
       "      <th>0</th>\n",
       "      <td>1467810369</td>\n",
       "      <td>Mon Apr 06 22:19:45  2009</td>\n",
       "      <td>NO_QUERY</td>\n",
       "      <td>_TheSpecialOne_</td>\n",
       "      <td>@switchfoot http://twitpic.com/2y1zl - Awww, t...</td>\n",
       "    </tr>\n",
       "    <tr>\n",
       "      <th>1</th>\n",
       "      <td>1467810672</td>\n",
       "      <td>Mon Apr 06 22:19:49  2009</td>\n",
       "      <td>NO_QUERY</td>\n",
       "      <td>scotthamilton</td>\n",
       "      <td>is upset that he can't update his Facebook by ...</td>\n",
       "    </tr>\n",
       "    <tr>\n",
       "      <th>2</th>\n",
       "      <td>1467810917</td>\n",
       "      <td>Mon Apr 06 22:19:53  2009</td>\n",
       "      <td>NO_QUERY</td>\n",
       "      <td>mattycus</td>\n",
       "      <td>@Kenichan I dived many times for the ball. Man...</td>\n",
       "    </tr>\n",
       "    <tr>\n",
       "      <th>3</th>\n",
       "      <td>1467811184</td>\n",
       "      <td>Mon Apr 06 22:19:57  2009</td>\n",
       "      <td>NO_QUERY</td>\n",
       "      <td>ElleCTF</td>\n",
       "      <td>my whole body feels itchy and like its on fire</td>\n",
       "    </tr>\n",
       "    <tr>\n",
       "      <th>4</th>\n",
       "      <td>1467811193</td>\n",
       "      <td>Mon Apr 06 22:19:57  2009</td>\n",
       "      <td>NO_QUERY</td>\n",
       "      <td>Karoli</td>\n",
       "      <td>@nationwideclass no, it's not behaving at all....</td>\n",
       "    </tr>\n",
       "  </tbody>\n",
       "</table>\n",
       "</div>"
      ],
      "text/plain": [
       "          ids                       date      flag             user  \\\n",
       "0  1467810369  Mon Apr 06 22:19:45  2009  NO_QUERY  _TheSpecialOne_   \n",
       "1  1467810672  Mon Apr 06 22:19:49  2009  NO_QUERY    scotthamilton   \n",
       "2  1467810917  Mon Apr 06 22:19:53  2009  NO_QUERY         mattycus   \n",
       "3  1467811184  Mon Apr 06 22:19:57  2009  NO_QUERY          ElleCTF   \n",
       "4  1467811193  Mon Apr 06 22:19:57  2009  NO_QUERY           Karoli   \n",
       "\n",
       "                                                text  \n",
       "0  @switchfoot http://twitpic.com/2y1zl - Awww, t...  \n",
       "1  is upset that he can't update his Facebook by ...  \n",
       "2  @Kenichan I dived many times for the ball. Man...  \n",
       "3    my whole body feels itchy and like its on fire   \n",
       "4  @nationwideclass no, it's not behaving at all....  "
      ]
     },
     "execution_count": 8,
     "metadata": {},
     "output_type": "execute_result"
    }
   ],
   "source": [
    "def remove_characters(string): \n",
    "    return string[:-8] + string[-5:]\n",
    "\n",
    "\n",
    "df['date'] = df['date'].apply(remove_characters)\n",
    "\n",
    "df.head(5)        # Removing the timezone as was preventing conversion to epoch time and not necessary for relative comparison"
   ]
  },
  {
   "cell_type": "code",
   "execution_count": 9,
   "id": "1b30dc2e",
   "metadata": {},
   "outputs": [
    {
     "data": {
      "text/html": [
       "<div>\n",
       "<style scoped>\n",
       "    .dataframe tbody tr th:only-of-type {\n",
       "        vertical-align: middle;\n",
       "    }\n",
       "\n",
       "    .dataframe tbody tr th {\n",
       "        vertical-align: top;\n",
       "    }\n",
       "\n",
       "    .dataframe thead th {\n",
       "        text-align: right;\n",
       "    }\n",
       "</style>\n",
       "<table border=\"1\" class=\"dataframe\">\n",
       "  <thead>\n",
       "    <tr style=\"text-align: right;\">\n",
       "      <th></th>\n",
       "      <th>ids</th>\n",
       "      <th>date</th>\n",
       "      <th>flag</th>\n",
       "      <th>user</th>\n",
       "      <th>text</th>\n",
       "    </tr>\n",
       "  </thead>\n",
       "  <tbody>\n",
       "    <tr>\n",
       "      <th>0</th>\n",
       "      <td>1467810369</td>\n",
       "      <td>1239056385</td>\n",
       "      <td>NO_QUERY</td>\n",
       "      <td>_TheSpecialOne_</td>\n",
       "      <td>@switchfoot http://twitpic.com/2y1zl - Awww, t...</td>\n",
       "    </tr>\n",
       "    <tr>\n",
       "      <th>1</th>\n",
       "      <td>1467810672</td>\n",
       "      <td>1239056389</td>\n",
       "      <td>NO_QUERY</td>\n",
       "      <td>scotthamilton</td>\n",
       "      <td>is upset that he can't update his Facebook by ...</td>\n",
       "    </tr>\n",
       "    <tr>\n",
       "      <th>2</th>\n",
       "      <td>1467810917</td>\n",
       "      <td>1239056393</td>\n",
       "      <td>NO_QUERY</td>\n",
       "      <td>mattycus</td>\n",
       "      <td>@Kenichan I dived many times for the ball. Man...</td>\n",
       "    </tr>\n",
       "    <tr>\n",
       "      <th>3</th>\n",
       "      <td>1467811184</td>\n",
       "      <td>1239056397</td>\n",
       "      <td>NO_QUERY</td>\n",
       "      <td>ElleCTF</td>\n",
       "      <td>my whole body feels itchy and like its on fire</td>\n",
       "    </tr>\n",
       "    <tr>\n",
       "      <th>4</th>\n",
       "      <td>1467811193</td>\n",
       "      <td>1239056397</td>\n",
       "      <td>NO_QUERY</td>\n",
       "      <td>Karoli</td>\n",
       "      <td>@nationwideclass no, it's not behaving at all....</td>\n",
       "    </tr>\n",
       "  </tbody>\n",
       "</table>\n",
       "</div>"
      ],
      "text/plain": [
       "          ids        date      flag             user  \\\n",
       "0  1467810369  1239056385  NO_QUERY  _TheSpecialOne_   \n",
       "1  1467810672  1239056389  NO_QUERY    scotthamilton   \n",
       "2  1467810917  1239056393  NO_QUERY         mattycus   \n",
       "3  1467811184  1239056397  NO_QUERY          ElleCTF   \n",
       "4  1467811193  1239056397  NO_QUERY           Karoli   \n",
       "\n",
       "                                                text  \n",
       "0  @switchfoot http://twitpic.com/2y1zl - Awww, t...  \n",
       "1  is upset that he can't update his Facebook by ...  \n",
       "2  @Kenichan I dived many times for the ball. Man...  \n",
       "3    my whole body feels itchy and like its on fire   \n",
       "4  @nationwideclass no, it's not behaving at all....  "
      ]
     },
     "execution_count": 9,
     "metadata": {},
     "output_type": "execute_result"
    }
   ],
   "source": [
    "def datetime_to_epoch(dt):                   # Converting to epoch time and displaying\n",
    "    return int(dt.timestamp())\n",
    "\n",
    "df['date'] = pd.to_datetime(df['date'], format = '%a %b %d %H:%M:%S %Y')\n",
    "\n",
    "df['date'] = df['date'].apply(datetime_to_epoch)\n",
    "\n",
    "df.head(5) \n",
    "    "
   ]
  },
  {
   "cell_type": "code",
   "execution_count": 10,
   "id": "3a8119d6",
   "metadata": {},
   "outputs": [
    {
     "name": "stdout",
     "output_type": "stream",
     "text": [
      "is not sorted by time\n"
     ]
    }
   ],
   "source": [
    "is_sorted = df['date'].is_monotonic_increasing   # checking if sorted by time ascending\n",
    "\n",
    "if is_sorted:\n",
    "    print ('is sorted by time')\n",
    "else:\n",
    "    print('is not sorted by time')"
   ]
  },
  {
   "cell_type": "code",
   "execution_count": 11,
   "id": "ca32eb44",
   "metadata": {},
   "outputs": [
    {
     "name": "stdout",
     "output_type": "stream",
     "text": [
      "is sorted by time\n"
     ]
    }
   ],
   "source": [
    "df = df.sort_values(by = 'date')     # sorting by time\n",
    "\n",
    "is_sorted = df['date'].is_monotonic_increasing\n",
    "\n",
    "if is_sorted:\n",
    "    print ('is sorted by time')\n",
    "else:\n",
    "    print('is not sorted by time') # checking again if sorted by time"
   ]
  },
  {
   "cell_type": "code",
   "execution_count": 12,
   "id": "78c27d84",
   "metadata": {},
   "outputs": [
    {
     "data": {
      "text/html": [
       "<div>\n",
       "<style scoped>\n",
       "    .dataframe tbody tr th:only-of-type {\n",
       "        vertical-align: middle;\n",
       "    }\n",
       "\n",
       "    .dataframe tbody tr th {\n",
       "        vertical-align: top;\n",
       "    }\n",
       "\n",
       "    .dataframe thead th {\n",
       "        text-align: right;\n",
       "    }\n",
       "</style>\n",
       "<table border=\"1\" class=\"dataframe\">\n",
       "  <thead>\n",
       "    <tr style=\"text-align: right;\">\n",
       "      <th></th>\n",
       "      <th>ids</th>\n",
       "      <th>date</th>\n",
       "      <th>flag</th>\n",
       "      <th>user</th>\n",
       "      <th>text</th>\n",
       "    </tr>\n",
       "  </thead>\n",
       "  <tbody>\n",
       "    <tr>\n",
       "      <th>0</th>\n",
       "      <td>1467810369</td>\n",
       "      <td>1239056385</td>\n",
       "      <td>NO_QUERY</td>\n",
       "      <td>_TheSpecialOne_</td>\n",
       "      <td>@switchfoot http://twitpic.com/2y1zl - Awww, t...</td>\n",
       "    </tr>\n",
       "    <tr>\n",
       "      <th>1</th>\n",
       "      <td>1467810672</td>\n",
       "      <td>1239056389</td>\n",
       "      <td>NO_QUERY</td>\n",
       "      <td>scotthamilton</td>\n",
       "      <td>is upset that he can't update his Facebook by ...</td>\n",
       "    </tr>\n",
       "    <tr>\n",
       "      <th>2</th>\n",
       "      <td>1467810917</td>\n",
       "      <td>1239056393</td>\n",
       "      <td>NO_QUERY</td>\n",
       "      <td>mattycus</td>\n",
       "      <td>@Kenichan I dived many times for the ball. Man...</td>\n",
       "    </tr>\n",
       "    <tr>\n",
       "      <th>3</th>\n",
       "      <td>1467811184</td>\n",
       "      <td>1239056397</td>\n",
       "      <td>NO_QUERY</td>\n",
       "      <td>ElleCTF</td>\n",
       "      <td>my whole body feels itchy and like its on fire</td>\n",
       "    </tr>\n",
       "    <tr>\n",
       "      <th>4</th>\n",
       "      <td>1467811193</td>\n",
       "      <td>1239056397</td>\n",
       "      <td>NO_QUERY</td>\n",
       "      <td>Karoli</td>\n",
       "      <td>@nationwideclass no, it's not behaving at all....</td>\n",
       "    </tr>\n",
       "  </tbody>\n",
       "</table>\n",
       "</div>"
      ],
      "text/plain": [
       "          ids        date      flag             user  \\\n",
       "0  1467810369  1239056385  NO_QUERY  _TheSpecialOne_   \n",
       "1  1467810672  1239056389  NO_QUERY    scotthamilton   \n",
       "2  1467810917  1239056393  NO_QUERY         mattycus   \n",
       "3  1467811184  1239056397  NO_QUERY          ElleCTF   \n",
       "4  1467811193  1239056397  NO_QUERY           Karoli   \n",
       "\n",
       "                                                text  \n",
       "0  @switchfoot http://twitpic.com/2y1zl - Awww, t...  \n",
       "1  is upset that he can't update his Facebook by ...  \n",
       "2  @Kenichan I dived many times for the ball. Man...  \n",
       "3    my whole body feels itchy and like its on fire   \n",
       "4  @nationwideclass no, it's not behaving at all....  "
      ]
     },
     "execution_count": 12,
     "metadata": {},
     "output_type": "execute_result"
    }
   ],
   "source": [
    "df.head(5)"
   ]
  },
  {
   "cell_type": "code",
   "execution_count": 13,
   "id": "df2ea06a",
   "metadata": {},
   "outputs": [],
   "source": [
    "#import pytz\n",
    "\n",
    "#def localize_datetime(dt):\n",
    "#    return pytz.timezone('America/Los_Angeles').localize(dt)"
   ]
  },
  {
   "cell_type": "code",
   "execution_count": 14,
   "id": "c4ddeec4",
   "metadata": {},
   "outputs": [],
   "source": [
    "#def my_tzinfos(tzname):\n",
    "#    if tzname == 'PDT':\n",
    " #       return -7 * 3600\n",
    "  #  else:\n",
    "   #     return None"
   ]
  },
  {
   "cell_type": "code",
   "execution_count": 15,
   "id": "82e9e8a3",
   "metadata": {},
   "outputs": [],
   "source": [
    "#def date_time_tzinfos(value):\n",
    "#    return pd.to_datetime(value, tzinfos = my_tzinfos)\n",
    "\n",
    "#df['epoch'] = df['date'].apply(date_time_tzinfos)\n",
    "\n",
    "#df.head(5)"
   ]
  },
  {
   "cell_type": "code",
   "execution_count": 16,
   "id": "ca926f49",
   "metadata": {},
   "outputs": [],
   "source": [
    "#def convert_to_epoch(value):\n",
    " #   try:\n",
    "#        dt = pd.to_datetime(value)\n",
    " #       epoch_time = dt.timestamp()\n",
    " #       return epoch_time\n",
    " #   except ValueError:\n",
    "     #   return None\n",
    "    \n",
    "    \n",
    "#df['epoch time'] = df['date'].apply(convert_to_epoch)\n",
    "\n",
    "#df.head(5)"
   ]
  },
  {
   "cell_type": "code",
   "execution_count": 17,
   "id": "38d5d898",
   "metadata": {},
   "outputs": [],
   "source": [
    "#import datetime\n",
    "#import pytz\n",
    "\n",
    "#def convert_to_epoch(date_string):\n",
    "#    date_obj = datetime.datetime.strptime(date_string[:-4], '%a %b %d %H:%M:%S')\n",
    "#    timezone = pytz.timezone(date_string[-4:])\n",
    "#    date_obj = timezone.localize(date_obj)\n",
    " #   return int(date_obj.timestamp())\n",
    "\n",
    "#df['epoch time'] = df['date'].apply(convert_to_epoch)\n",
    "\n",
    "#df.head(10)"
   ]
  },
  {
   "cell_type": "code",
   "execution_count": 18,
   "id": "a9dc7bea",
   "metadata": {},
   "outputs": [
    {
     "name": "stdout",
     "output_type": "stream",
     "text": [
      "<class 'pandas.core.frame.DataFrame'>\n",
      "Int64Index: 1600000 entries, 0 to 799999\n",
      "Data columns (total 5 columns):\n",
      " #   Column  Non-Null Count    Dtype \n",
      "---  ------  --------------    ----- \n",
      " 0   ids     1600000 non-null  int64 \n",
      " 1   date    1600000 non-null  int64 \n",
      " 2   flag    1600000 non-null  object\n",
      " 3   user    1600000 non-null  object\n",
      " 4   text    1600000 non-null  object\n",
      "dtypes: int64(2), object(3)\n",
      "memory usage: 73.2+ MB\n"
     ]
    }
   ],
   "source": [
    "df.info()  # Checking for nulls and data types"
   ]
  },
  {
   "cell_type": "code",
   "execution_count": 19,
   "id": "eea515b0",
   "metadata": {},
   "outputs": [
    {
     "data": {
      "text/plain": [
       "ids     0\n",
       "date    0\n",
       "flag    0\n",
       "user    0\n",
       "text    0\n",
       "dtype: int64"
      ]
     },
     "execution_count": 19,
     "metadata": {},
     "output_type": "execute_result"
    }
   ],
   "source": [
    "df.isnull().sum()"
   ]
  },
  {
   "cell_type": "code",
   "execution_count": 20,
   "id": "648541a8",
   "metadata": {},
   "outputs": [
    {
     "data": {
      "text/plain": [
       "ids     0\n",
       "date    0\n",
       "flag    0\n",
       "user    0\n",
       "text    0\n",
       "dtype: int64"
      ]
     },
     "execution_count": 20,
     "metadata": {},
     "output_type": "execute_result"
    }
   ],
   "source": [
    "df.isna().sum()"
   ]
  },
  {
   "cell_type": "code",
   "execution_count": 21,
   "id": "3207570a",
   "metadata": {},
   "outputs": [],
   "source": [
    "#df['date'] = pd.to_datetime(df['date'], format = '%a %b %d %H:%M:%S %z %Y')\n",
    "\n",
    "#df = df.sort_values(by = 'date')\n",
    "\n",
    "#df.head(10)"
   ]
  },
  {
   "cell_type": "code",
   "execution_count": 22,
   "id": "55918b31",
   "metadata": {},
   "outputs": [],
   "source": [
    "#import datetime     # removed timezone and year since same for all rows, sequence still there\n",
    "\n",
    "#def remove_last_nine_characters(s):\n",
    "#    return s[:-9]\n",
    "\n",
    "#df['date'] = df['date'].apply(remove_last_nine_characters)\n",
    "\n",
    "#df.head(5)"
   ]
  },
  {
   "cell_type": "code",
   "execution_count": 23,
   "id": "e5bd822d",
   "metadata": {},
   "outputs": [],
   "source": [
    "#df = df.sort_values(by = 'date') # ensuring dates in correct sequence\n",
    "\n",
    "#df.head(10)"
   ]
  },
  {
   "cell_type": "code",
   "execution_count": 24,
   "id": "69041c82",
   "metadata": {},
   "outputs": [
    {
     "data": {
      "text/html": [
       "<div>\n",
       "<style scoped>\n",
       "    .dataframe tbody tr th:only-of-type {\n",
       "        vertical-align: middle;\n",
       "    }\n",
       "\n",
       "    .dataframe tbody tr th {\n",
       "        vertical-align: top;\n",
       "    }\n",
       "\n",
       "    .dataframe thead th {\n",
       "        text-align: right;\n",
       "    }\n",
       "</style>\n",
       "<table border=\"1\" class=\"dataframe\">\n",
       "  <thead>\n",
       "    <tr style=\"text-align: right;\">\n",
       "      <th></th>\n",
       "      <th>ids</th>\n",
       "      <th>date</th>\n",
       "      <th>flag</th>\n",
       "      <th>user</th>\n",
       "      <th>text</th>\n",
       "    </tr>\n",
       "  </thead>\n",
       "  <tbody>\n",
       "    <tr>\n",
       "      <th>0</th>\n",
       "      <td>1467810369</td>\n",
       "      <td>1239056385</td>\n",
       "      <td>NO_QUERY</td>\n",
       "      <td>_TheSpecialOne_</td>\n",
       "      <td>@switchfoot http://twitpic.com/2y1zl - Awww, t...</td>\n",
       "    </tr>\n",
       "    <tr>\n",
       "      <th>1</th>\n",
       "      <td>1467810672</td>\n",
       "      <td>1239056389</td>\n",
       "      <td>NO_QUERY</td>\n",
       "      <td>scotthamilton</td>\n",
       "      <td>is upset that he can't update his Facebook by ...</td>\n",
       "    </tr>\n",
       "    <tr>\n",
       "      <th>2</th>\n",
       "      <td>1467810917</td>\n",
       "      <td>1239056393</td>\n",
       "      <td>NO_QUERY</td>\n",
       "      <td>mattycus</td>\n",
       "      <td>@Kenichan I dived many times for the ball. Man...</td>\n",
       "    </tr>\n",
       "    <tr>\n",
       "      <th>3</th>\n",
       "      <td>1467811184</td>\n",
       "      <td>1239056397</td>\n",
       "      <td>NO_QUERY</td>\n",
       "      <td>ElleCTF</td>\n",
       "      <td>my whole body feels itchy and like its on fire</td>\n",
       "    </tr>\n",
       "    <tr>\n",
       "      <th>4</th>\n",
       "      <td>1467811193</td>\n",
       "      <td>1239056397</td>\n",
       "      <td>NO_QUERY</td>\n",
       "      <td>Karoli</td>\n",
       "      <td>@nationwideclass no, it's not behaving at all....</td>\n",
       "    </tr>\n",
       "  </tbody>\n",
       "</table>\n",
       "</div>"
      ],
      "text/plain": [
       "          ids        date      flag             user  \\\n",
       "0  1467810369  1239056385  NO_QUERY  _TheSpecialOne_   \n",
       "1  1467810672  1239056389  NO_QUERY    scotthamilton   \n",
       "2  1467810917  1239056393  NO_QUERY         mattycus   \n",
       "3  1467811184  1239056397  NO_QUERY          ElleCTF   \n",
       "4  1467811193  1239056397  NO_QUERY           Karoli   \n",
       "\n",
       "                                                text  \n",
       "0  @switchfoot http://twitpic.com/2y1zl - Awww, t...  \n",
       "1  is upset that he can't update his Facebook by ...  \n",
       "2  @Kenichan I dived many times for the ball. Man...  \n",
       "3    my whole body feels itchy and like its on fire   \n",
       "4  @nationwideclass no, it's not behaving at all....  "
      ]
     },
     "execution_count": 24,
     "metadata": {},
     "output_type": "execute_result"
    }
   ],
   "source": [
    "df = df.drop_duplicates(subset = ['user'])       # Drop any row containing duplicate user entries to maintain unique users\n",
    "\n",
    "df.head(5)"
   ]
  },
  {
   "cell_type": "code",
   "execution_count": 25,
   "id": "6ce892d7",
   "metadata": {},
   "outputs": [
    {
     "name": "stdout",
     "output_type": "stream",
     "text": [
      "<class 'pandas.core.frame.DataFrame'>\n",
      "Int64Index: 659775 entries, 0 to 799997\n",
      "Data columns (total 5 columns):\n",
      " #   Column  Non-Null Count   Dtype \n",
      "---  ------  --------------   ----- \n",
      " 0   ids     659775 non-null  int64 \n",
      " 1   date    659775 non-null  int64 \n",
      " 2   flag    659775 non-null  object\n",
      " 3   user    659775 non-null  object\n",
      " 4   text    659775 non-null  object\n",
      "dtypes: int64(2), object(3)\n",
      "memory usage: 30.2+ MB\n"
     ]
    }
   ],
   "source": [
    "df.info() # confirming there were no duplicates by the count not changing"
   ]
  },
  {
   "cell_type": "code",
   "execution_count": 26,
   "id": "2a77be5f",
   "metadata": {},
   "outputs": [
    {
     "data": {
      "text/html": [
       "<div>\n",
       "<style scoped>\n",
       "    .dataframe tbody tr th:only-of-type {\n",
       "        vertical-align: middle;\n",
       "    }\n",
       "\n",
       "    .dataframe tbody tr th {\n",
       "        vertical-align: top;\n",
       "    }\n",
       "\n",
       "    .dataframe thead th {\n",
       "        text-align: right;\n",
       "    }\n",
       "</style>\n",
       "<table border=\"1\" class=\"dataframe\">\n",
       "  <thead>\n",
       "    <tr style=\"text-align: right;\">\n",
       "      <th></th>\n",
       "      <th>date</th>\n",
       "      <th>text</th>\n",
       "    </tr>\n",
       "  </thead>\n",
       "  <tbody>\n",
       "    <tr>\n",
       "      <th>0</th>\n",
       "      <td>1239056385</td>\n",
       "      <td>@switchfoot http://twitpic.com/2y1zl - Awww, t...</td>\n",
       "    </tr>\n",
       "    <tr>\n",
       "      <th>1</th>\n",
       "      <td>1239056389</td>\n",
       "      <td>is upset that he can't update his Facebook by ...</td>\n",
       "    </tr>\n",
       "    <tr>\n",
       "      <th>2</th>\n",
       "      <td>1239056393</td>\n",
       "      <td>@Kenichan I dived many times for the ball. Man...</td>\n",
       "    </tr>\n",
       "    <tr>\n",
       "      <th>3</th>\n",
       "      <td>1239056397</td>\n",
       "      <td>my whole body feels itchy and like its on fire</td>\n",
       "    </tr>\n",
       "    <tr>\n",
       "      <th>4</th>\n",
       "      <td>1239056397</td>\n",
       "      <td>@nationwideclass no, it's not behaving at all....</td>\n",
       "    </tr>\n",
       "  </tbody>\n",
       "</table>\n",
       "</div>"
      ],
      "text/plain": [
       "         date                                               text\n",
       "0  1239056385  @switchfoot http://twitpic.com/2y1zl - Awww, t...\n",
       "1  1239056389  is upset that he can't update his Facebook by ...\n",
       "2  1239056393  @Kenichan I dived many times for the ball. Man...\n",
       "3  1239056397    my whole body feels itchy and like its on fire \n",
       "4  1239056397  @nationwideclass no, it's not behaving at all...."
      ]
     },
     "execution_count": 26,
     "metadata": {},
     "output_type": "execute_result"
    }
   ],
   "source": [
    "df = df.drop(['ids', 'flag', 'user'], axis = 1) # removing unnecessary columns\n",
    "\n",
    "df.head(5)"
   ]
  },
  {
   "cell_type": "code",
   "execution_count": 27,
   "id": "4286f71d",
   "metadata": {},
   "outputs": [],
   "source": [
    "user_mention_pattern = re.compile(r'@\\w+')\n",
    "\n",
    "def preprocessed_text(text):\n",
    "    \n",
    "    text = user_mention_pattern.sub('', text)   # Removing the user mentions\n",
    "    \n",
    "    text = re.sub(r'\\b\\w*http\\w*\\b', '', text)  # Removing words containing 'http' as they are just links etc.\n",
    "    \n",
    "    text = ''.join([char for char in text if char not in string.punctuation]) # removing special characters\n",
    "    \n",
    "    text = text.lower()                         # Making lowercase\n",
    "    \n",
    "    tokens = nltk.word_tokenize(text)           # Tokenizing the text\n",
    "    \n",
    "    stop_words = set(stopwords.words('english')) \n",
    "    \n",
    "    tokens = [word for word in tokens if word not in stop_words] # Removing stopwords\n",
    "    \n",
    "    lemmatizer = WordNetLemmatizer()\n",
    "    \n",
    "    tokens = [lemmatizer.lemmatize(word) for word in tokens]  # Lemmatizing the tokenized text\n",
    "    \n",
    "    text = ' '.join(tokens)                   # Join tokenized words back into a string\n",
    "    \n",
    "    return text"
   ]
  },
  {
   "cell_type": "code",
   "execution_count": 28,
   "id": "f87ab4e1",
   "metadata": {},
   "outputs": [],
   "source": [
    "df['text'] = df['text'].apply(preprocessed_text)         # Applying the preprocessing function to the 'text' column"
   ]
  },
  {
   "cell_type": "code",
   "execution_count": 29,
   "id": "51208f0e",
   "metadata": {},
   "outputs": [
    {
     "data": {
      "text/html": [
       "<div>\n",
       "<style scoped>\n",
       "    .dataframe tbody tr th:only-of-type {\n",
       "        vertical-align: middle;\n",
       "    }\n",
       "\n",
       "    .dataframe tbody tr th {\n",
       "        vertical-align: top;\n",
       "    }\n",
       "\n",
       "    .dataframe thead th {\n",
       "        text-align: right;\n",
       "    }\n",
       "</style>\n",
       "<table border=\"1\" class=\"dataframe\">\n",
       "  <thead>\n",
       "    <tr style=\"text-align: right;\">\n",
       "      <th></th>\n",
       "      <th>date</th>\n",
       "      <th>text</th>\n",
       "    </tr>\n",
       "  </thead>\n",
       "  <tbody>\n",
       "    <tr>\n",
       "      <th>0</th>\n",
       "      <td>1239056385</td>\n",
       "      <td>twitpiccom2y1zl awww thats bummer shoulda got ...</td>\n",
       "    </tr>\n",
       "    <tr>\n",
       "      <th>1</th>\n",
       "      <td>1239056389</td>\n",
       "      <td>upset cant update facebook texting might cry r...</td>\n",
       "    </tr>\n",
       "    <tr>\n",
       "      <th>2</th>\n",
       "      <td>1239056393</td>\n",
       "      <td>dived many time ball managed save 50 rest go b...</td>\n",
       "    </tr>\n",
       "    <tr>\n",
       "      <th>3</th>\n",
       "      <td>1239056397</td>\n",
       "      <td>whole body feel itchy like fire</td>\n",
       "    </tr>\n",
       "    <tr>\n",
       "      <th>4</th>\n",
       "      <td>1239056397</td>\n",
       "      <td>behaving im mad cant see</td>\n",
       "    </tr>\n",
       "    <tr>\n",
       "      <th>5</th>\n",
       "      <td>1239056400</td>\n",
       "      <td>whole crew</td>\n",
       "    </tr>\n",
       "    <tr>\n",
       "      <th>6</th>\n",
       "      <td>1239056403</td>\n",
       "      <td>need hug</td>\n",
       "    </tr>\n",
       "    <tr>\n",
       "      <th>7</th>\n",
       "      <td>1239056403</td>\n",
       "      <td>hey long time see yes rain bit bit lol im fine...</td>\n",
       "    </tr>\n",
       "    <tr>\n",
       "      <th>8</th>\n",
       "      <td>1239056405</td>\n",
       "      <td>nope didnt</td>\n",
       "    </tr>\n",
       "    <tr>\n",
       "      <th>9</th>\n",
       "      <td>1239056409</td>\n",
       "      <td>que muera</td>\n",
       "    </tr>\n",
       "  </tbody>\n",
       "</table>\n",
       "</div>"
      ],
      "text/plain": [
       "         date                                               text\n",
       "0  1239056385  twitpiccom2y1zl awww thats bummer shoulda got ...\n",
       "1  1239056389  upset cant update facebook texting might cry r...\n",
       "2  1239056393  dived many time ball managed save 50 rest go b...\n",
       "3  1239056397                    whole body feel itchy like fire\n",
       "4  1239056397                           behaving im mad cant see\n",
       "5  1239056400                                         whole crew\n",
       "6  1239056403                                           need hug\n",
       "7  1239056403  hey long time see yes rain bit bit lol im fine...\n",
       "8  1239056405                                         nope didnt\n",
       "9  1239056409                                          que muera"
      ]
     },
     "execution_count": 29,
     "metadata": {},
     "output_type": "execute_result"
    }
   ],
   "source": [
    "df.head(10)"
   ]
  },
  {
   "cell_type": "code",
   "execution_count": 30,
   "id": "2ca41170",
   "metadata": {},
   "outputs": [
    {
     "name": "stdout",
     "output_type": "stream",
     "text": [
      "is sorted by time\n"
     ]
    }
   ],
   "source": [
    "is_sorted = df['date'].is_monotonic_increasing \n",
    "\n",
    "if is_sorted:\n",
    "    print ('is sorted by time')\n",
    "else:\n",
    "    print('is not sorted by time')                  # checking again if still sorted by time"
   ]
  },
  {
   "cell_type": "code",
   "execution_count": 31,
   "id": "d5707c18",
   "metadata": {},
   "outputs": [
    {
     "name": "stderr",
     "output_type": "stream",
     "text": [
      "[nltk_data] Downloading package vader_lexicon to\n",
      "[nltk_data]     C:\\Users\\paddy\\AppData\\Roaming\\nltk_data...\n",
      "[nltk_data]   Package vader_lexicon is already up-to-date!\n"
     ]
    }
   ],
   "source": [
    "from nltk.sentiment.vader import SentimentIntensityAnalyzer\n",
    "\n",
    "nltk.download('vader_lexicon')\n",
    "\n",
    "sid = SentimentIntensityAnalyzer()                 # Initialising instance of vader\n",
    "\n",
    "def get_sentiment(text):\n",
    "    sentiment_dict = sid.polarity_scores(text)\n",
    "    return sentiment_dict['compound']\n",
    "\n",
    "df['sentiment'] = df['text'].apply(get_sentiment)"
   ]
  },
  {
   "cell_type": "code",
   "execution_count": 32,
   "id": "6ba87612",
   "metadata": {},
   "outputs": [
    {
     "data": {
      "text/html": [
       "<div>\n",
       "<style scoped>\n",
       "    .dataframe tbody tr th:only-of-type {\n",
       "        vertical-align: middle;\n",
       "    }\n",
       "\n",
       "    .dataframe tbody tr th {\n",
       "        vertical-align: top;\n",
       "    }\n",
       "\n",
       "    .dataframe thead th {\n",
       "        text-align: right;\n",
       "    }\n",
       "</style>\n",
       "<table border=\"1\" class=\"dataframe\">\n",
       "  <thead>\n",
       "    <tr style=\"text-align: right;\">\n",
       "      <th></th>\n",
       "      <th>date</th>\n",
       "      <th>text</th>\n",
       "      <th>sentiment</th>\n",
       "    </tr>\n",
       "  </thead>\n",
       "  <tbody>\n",
       "    <tr>\n",
       "      <th>0</th>\n",
       "      <td>1239056385</td>\n",
       "      <td>twitpiccom2y1zl awww thats bummer shoulda got ...</td>\n",
       "      <td>-0.3818</td>\n",
       "    </tr>\n",
       "    <tr>\n",
       "      <th>1</th>\n",
       "      <td>1239056389</td>\n",
       "      <td>upset cant update facebook texting might cry r...</td>\n",
       "      <td>-0.7269</td>\n",
       "    </tr>\n",
       "    <tr>\n",
       "      <th>2</th>\n",
       "      <td>1239056393</td>\n",
       "      <td>dived many time ball managed save 50 rest go b...</td>\n",
       "      <td>0.4939</td>\n",
       "    </tr>\n",
       "    <tr>\n",
       "      <th>3</th>\n",
       "      <td>1239056397</td>\n",
       "      <td>whole body feel itchy like fire</td>\n",
       "      <td>-0.2500</td>\n",
       "    </tr>\n",
       "    <tr>\n",
       "      <th>4</th>\n",
       "      <td>1239056397</td>\n",
       "      <td>behaving im mad cant see</td>\n",
       "      <td>-0.4939</td>\n",
       "    </tr>\n",
       "  </tbody>\n",
       "</table>\n",
       "</div>"
      ],
      "text/plain": [
       "         date                                               text  sentiment\n",
       "0  1239056385  twitpiccom2y1zl awww thats bummer shoulda got ...    -0.3818\n",
       "1  1239056389  upset cant update facebook texting might cry r...    -0.7269\n",
       "2  1239056393  dived many time ball managed save 50 rest go b...     0.4939\n",
       "3  1239056397                    whole body feel itchy like fire    -0.2500\n",
       "4  1239056397                           behaving im mad cant see    -0.4939"
      ]
     },
     "execution_count": 32,
     "metadata": {},
     "output_type": "execute_result"
    }
   ],
   "source": [
    "df.head(5)  # Checking sentiment scores"
   ]
  },
  {
   "cell_type": "code",
   "execution_count": 33,
   "id": "cb815d1f",
   "metadata": {},
   "outputs": [],
   "source": [
    "df['date'] = pd.to_datetime(df['date'], unit = 's')   # Converting epoch time to datetime\n",
    "\n",
    "weekly_average = df.resample('W', on = 'date')['sentiment'].mean() # getting mean sentiment per week\n"
   ]
  },
  {
   "cell_type": "code",
   "execution_count": 34,
   "id": "024227dd",
   "metadata": {},
   "outputs": [
    {
     "data": {
      "text/plain": [
       "date\n",
       "2009-04-12    0.158228\n",
       "2009-04-19    0.179045\n",
       "2009-04-26    0.165070\n",
       "2009-05-03    0.162670\n",
       "2009-05-10    0.183491\n",
       "Freq: W-SUN, Name: sentiment, dtype: float64"
      ]
     },
     "execution_count": 34,
     "metadata": {},
     "output_type": "execute_result"
    }
   ],
   "source": [
    "weekly_average.head(5)"
   ]
  },
  {
   "cell_type": "code",
   "execution_count": 35,
   "id": "a47b104a",
   "metadata": {},
   "outputs": [
    {
     "name": "stdout",
     "output_type": "stream",
     "text": [
      "-0.9899\n",
      "0.9928\n"
     ]
    }
   ],
   "source": [
    "sentiment_min = df['sentiment'].min()   # checking min and max values\n",
    "sentiment_max = df['sentiment'].max()\n",
    "\n",
    "print(sentiment_min)\n",
    "print(sentiment_max)"
   ]
  },
  {
   "cell_type": "code",
   "execution_count": 36,
   "id": "5871ff01",
   "metadata": {},
   "outputs": [
    {
     "data": {
      "image/png": "[encoded data removed]",
      "text/plain": [
       "<Figure size 1000x500 with 1 Axes>"
      ]
     },
     "metadata": {},
     "output_type": "display_data"
    }
   ],
   "source": [
    "plt.figure(figsize = (10, 5))\n",
    "\n",
    "plt.plot(weekly_average, marker = 'o', linestyle = '-')\n",
    "\n",
    "plt.title('Weekly Average Sentiment', fontsize = 18, fontweight = 'bold')\n",
    "plt.xlabel('Date', fontweight = 'bold', fontsize = 15)\n",
    "plt.ylabel('Average Sentiment', fontweight = 'bold', fontsize = 15)\n",
    "\n",
    "plt.grid(True)   #  Displaying results\n",
    "\n",
    "plt.show() # Sentiment is positive (y > 0.05 threshold) until 2009-06-29 when it drops to neutral threshold (-0.05 <= y <= 0.05)"
   ]
  },
  {
   "cell_type": "code",
   "execution_count": 37,
   "id": "c15f2735",
   "metadata": {},
   "outputs": [
    {
     "name": "stdout",
     "output_type": "stream",
     "text": [
      "Time taken: 1.9930593967437744 seconds\n"
     ]
    }
   ],
   "source": [
    "import time\n",
    "\n",
    "start_time = time.time()\n",
    "\n",
    "df.to_csv('sentiment_analysis.csv', index = False)            # Taking csv out to bring into ubuntu\n",
    "\n",
    "end_time = time.time()\n",
    "\n",
    "print(f'Time taken: {end_time - start_time} seconds')         # Timing the length of the operation"
   ]
  },
  {
   "cell_type": "code",
   "execution_count": 38,
   "id": "6aef4dfe",
   "metadata": {},
   "outputs": [
    {
     "data": {
      "text/html": [
       "<div>\n",
       "<style scoped>\n",
       "    .dataframe tbody tr th:only-of-type {\n",
       "        vertical-align: middle;\n",
       "    }\n",
       "\n",
       "    .dataframe tbody tr th {\n",
       "        vertical-align: top;\n",
       "    }\n",
       "\n",
       "    .dataframe thead th {\n",
       "        text-align: right;\n",
       "    }\n",
       "</style>\n",
       "<table border=\"1\" class=\"dataframe\">\n",
       "  <thead>\n",
       "    <tr style=\"text-align: right;\">\n",
       "      <th></th>\n",
       "      <th>date</th>\n",
       "      <th>text</th>\n",
       "      <th>sentiment</th>\n",
       "    </tr>\n",
       "  </thead>\n",
       "  <tbody>\n",
       "    <tr>\n",
       "      <th>0</th>\n",
       "      <td>2009-04-06 22:19:45</td>\n",
       "      <td>twitpiccom2y1zl awww thats bummer shoulda got ...</td>\n",
       "      <td>-0.3818</td>\n",
       "    </tr>\n",
       "    <tr>\n",
       "      <th>1</th>\n",
       "      <td>2009-04-06 22:19:49</td>\n",
       "      <td>upset cant update facebook texting might cry r...</td>\n",
       "      <td>-0.7269</td>\n",
       "    </tr>\n",
       "    <tr>\n",
       "      <th>2</th>\n",
       "      <td>2009-04-06 22:19:53</td>\n",
       "      <td>dived many time ball managed save 50 rest go b...</td>\n",
       "      <td>0.4939</td>\n",
       "    </tr>\n",
       "    <tr>\n",
       "      <th>3</th>\n",
       "      <td>2009-04-06 22:19:57</td>\n",
       "      <td>whole body feel itchy like fire</td>\n",
       "      <td>-0.2500</td>\n",
       "    </tr>\n",
       "    <tr>\n",
       "      <th>4</th>\n",
       "      <td>2009-04-06 22:19:57</td>\n",
       "      <td>behaving im mad cant see</td>\n",
       "      <td>-0.4939</td>\n",
       "    </tr>\n",
       "    <tr>\n",
       "      <th>5</th>\n",
       "      <td>2009-04-06 22:20:00</td>\n",
       "      <td>whole crew</td>\n",
       "      <td>0.0000</td>\n",
       "    </tr>\n",
       "    <tr>\n",
       "      <th>6</th>\n",
       "      <td>2009-04-06 22:20:03</td>\n",
       "      <td>need hug</td>\n",
       "      <td>0.4767</td>\n",
       "    </tr>\n",
       "    <tr>\n",
       "      <th>7</th>\n",
       "      <td>2009-04-06 22:20:03</td>\n",
       "      <td>hey long time see yes rain bit bit lol im fine...</td>\n",
       "      <td>0.8481</td>\n",
       "    </tr>\n",
       "    <tr>\n",
       "      <th>8</th>\n",
       "      <td>2009-04-06 22:20:05</td>\n",
       "      <td>nope didnt</td>\n",
       "      <td>0.0000</td>\n",
       "    </tr>\n",
       "    <tr>\n",
       "      <th>9</th>\n",
       "      <td>2009-04-06 22:20:09</td>\n",
       "      <td>que muera</td>\n",
       "      <td>0.0000</td>\n",
       "    </tr>\n",
       "  </tbody>\n",
       "</table>\n",
       "</div>"
      ],
      "text/plain": [
       "                 date                                               text  \\\n",
       "0 2009-04-06 22:19:45  twitpiccom2y1zl awww thats bummer shoulda got ...   \n",
       "1 2009-04-06 22:19:49  upset cant update facebook texting might cry r...   \n",
       "2 2009-04-06 22:19:53  dived many time ball managed save 50 rest go b...   \n",
       "3 2009-04-06 22:19:57                    whole body feel itchy like fire   \n",
       "4 2009-04-06 22:19:57                           behaving im mad cant see   \n",
       "5 2009-04-06 22:20:00                                         whole crew   \n",
       "6 2009-04-06 22:20:03                                           need hug   \n",
       "7 2009-04-06 22:20:03  hey long time see yes rain bit bit lol im fine...   \n",
       "8 2009-04-06 22:20:05                                         nope didnt   \n",
       "9 2009-04-06 22:20:09                                          que muera   \n",
       "\n",
       "   sentiment  \n",
       "0    -0.3818  \n",
       "1    -0.7269  \n",
       "2     0.4939  \n",
       "3    -0.2500  \n",
       "4    -0.4939  \n",
       "5     0.0000  \n",
       "6     0.4767  \n",
       "7     0.8481  \n",
       "8     0.0000  \n",
       "9     0.0000  "
      ]
     },
     "execution_count": 38,
     "metadata": {},
     "output_type": "execute_result"
    }
   ],
   "source": [
    "df.head(10)"
   ]
  },
  {
   "cell_type": "code",
   "execution_count": 39,
   "id": "1bcf57c7",
   "metadata": {},
   "outputs": [
    {
     "name": "stdout",
     "output_type": "stream",
     "text": [
      "<class 'pandas.core.series.Series'>\n",
      "DatetimeIndex: 114490 entries, 2009-04-06 22:19:00 to 2009-06-25 10:28:00\n",
      "Freq: T\n",
      "Series name: sentiment\n",
      "Non-Null Count  Dtype  \n",
      "--------------  -----  \n",
      "28599 non-null  float64\n",
      "dtypes: float64(1)\n",
      "memory usage: 1.7 MB\n"
     ]
    }
   ],
   "source": [
    "minutely_average = df.resample('T', on = 'date')['sentiment'].mean()     # getting mean sentiment per min\n",
    "\n",
    "minutely_average.info()"
   ]
  },
  {
   "cell_type": "code",
   "execution_count": 40,
   "id": "a2fc4078",
   "metadata": {},
   "outputs": [
    {
     "data": {
      "text/plain": [
       "sentiment    85891\n",
       "dtype: int64"
      ]
     },
     "execution_count": 40,
     "metadata": {},
     "output_type": "execute_result"
    }
   ],
   "source": [
    "minutely_average = pd.DataFrame(minutely_average)\n",
    "\n",
    "minutely_average.isnull().sum()"
   ]
  },
  {
   "cell_type": "code",
   "execution_count": 41,
   "id": "a67490d7",
   "metadata": {},
   "outputs": [
    {
     "data": {
      "text/plain": [
       "<bound method NDFrame.describe of                      sentiment\n",
       "date                          \n",
       "2009-04-06 22:19:00  -0.271740\n",
       "2009-04-06 22:20:00   0.049792\n",
       "2009-04-06 22:21:00  -0.121106\n",
       "2009-04-06 22:22:00   0.213249\n",
       "2009-04-06 22:23:00   0.182288\n",
       "...                        ...\n",
       "2009-06-25 10:24:00  -0.269436\n",
       "2009-06-25 10:25:00  -0.134880\n",
       "2009-06-25 10:26:00  -0.024705\n",
       "2009-06-25 10:27:00  -0.557400\n",
       "2009-06-25 10:28:00   0.048285\n",
       "\n",
       "[114490 rows x 1 columns]>"
      ]
     },
     "execution_count": 41,
     "metadata": {},
     "output_type": "execute_result"
    }
   ],
   "source": [
    "minutely_average.describe"
   ]
  },
  {
   "cell_type": "code",
   "execution_count": 42,
   "id": "4d9afcba",
   "metadata": {},
   "outputs": [],
   "source": [
    "start_date = df['date'].min()             # Creating a variable for the date range of the file\n",
    "end_date = df['date'].max()\n",
    "\n",
    "date_range = pd.date_range(start = start_date, end = end_date)\n",
    "\n",
    "#df = df.reindex(date_range)  # reindexing date column"
   ]
  },
  {
   "cell_type": "code",
   "execution_count": 43,
   "id": "a5bae450",
   "metadata": {},
   "outputs": [
    {
     "name": "stdout",
     "output_type": "stream",
     "text": [
      "                  date\n",
      "0  2009-04-07 22:19:45\n",
      "1  2009-04-08 22:19:45\n",
      "2  2009-04-09 22:19:45\n",
      "3  2009-04-10 22:19:45\n",
      "4  2009-04-11 22:19:45\n",
      "..                 ...\n",
      "69 2009-06-20 22:19:45\n",
      "70 2009-06-21 22:19:45\n",
      "71 2009-06-22 22:19:45\n",
      "72 2009-06-23 22:19:45\n",
      "73 2009-06-24 22:19:45\n",
      "\n",
      "[74 rows x 1 columns]\n"
     ]
    }
   ],
   "source": [
    "missing_dates = date_range.difference(df['date'])\n",
    "missing_dates = pd.DataFrame(missing_dates, columns = ['date'])\n",
    "\n",
    "print(missing_dates)                   # Showing the missing dates from the dataset"
   ]
  },
  {
   "cell_type": "code",
   "execution_count": 44,
   "id": "660028d5",
   "metadata": {},
   "outputs": [
    {
     "data": {
      "image/png": "[encoded data removed]",
      "text/plain": [
       "<Figure size 1000x500 with 1 Axes>"
      ]
     },
     "metadata": {},
     "output_type": "display_data"
    }
   ],
   "source": [
    "plt.figure(figsize = (10, 5))\n",
    "\n",
    "plt.plot(df['date'], [1] * len(df['date']), 'go', label = 'Present Dates')\n",
    "\n",
    "plt.plot(missing_dates, [1] * len(missing_dates), 'rx', label = 'Missing Dates')\n",
    "\n",
    "plt.xlabel('Date', fontweight = 'bold', fontsize = 14)\n",
    "plt.ylabel('Presence', fontweight = 'bold', fontsize = 14)\n",
    "plt.title('Missing Dates', fontweight = 'bold', fontsize = 18)\n",
    "plt.legend()\n",
    "plt.yticks([])\n",
    "plt.grid(True)\n",
    "\n",
    "plt.show()            # Visualising the number of missing dates"
   ]
  },
  {
   "cell_type": "code",
   "execution_count": 45,
   "id": "f9f4f2e0",
   "metadata": {},
   "outputs": [],
   "source": [
    "#df.set_index('date', inplace = True)"
   ]
  },
  {
   "cell_type": "code",
   "execution_count": 46,
   "id": "b2a11669",
   "metadata": {},
   "outputs": [
    {
     "data": {
      "image/png": "[encoded data removed]",
      "text/plain": [
       "<Figure size 1200x800 with 1 Axes>"
      ]
     },
     "metadata": {},
     "output_type": "display_data"
    }
   ],
   "source": [
    "def plot_df(df, x, y, title = '', xlabel = 'Date', ylabel = 'sentiment value', dpi = 80):\n",
    "    plt.figure(figsize=(15, 10), dpi = dpi)\n",
    "    plt.plot(x, y, color = 'tab:purple')\n",
    "    plt.gca().set(title = title, xlabel = xlabel, ylabel = ylabel)\n",
    "\n",
    "    plt.axhline(y = 0.05, color = 'blue', linestyle = '--', label = 'Threshold +0.05')\n",
    "    plt.axhline(y = -0.05, color = 'red', linestyle = '--', label = 'Threshold -0.05')\n",
    "    plt.text(x.max(), 0.05, 'Threshold +0.05', va = 'bottom', ha = 'left', color = 'blue')\n",
    "    plt.text(x.max(), -0.05, 'Threshold -0.05', va = 'top', ha = 'left', color = 'red')\n",
    "    \n",
    "    plt.ylim(-0.3, 0.3)\n",
    "    plt.rcParams['agg.path.chunksize'] = 200\n",
    "    plt.rcParams['path.simplify_threshold'] = 0.111111111111\n",
    "    \n",
    " #   x_min, x_max = plt.xlim()\n",
    "  #  new_x_min = x_min\n",
    "  #  new_x_max = x_max * 2\n",
    "    \n",
    "  #  y_min, y_max = plt.ylim()\n",
    "   # new_y_min = y_min\n",
    "  #  new_y_max = y_max * 2\n",
    "    \n",
    "  #  plt.xlim(new_x_min, new_x_max)\n",
    "  #  plt.ylim(new_y_min, new_y_max)\n",
    "    \n",
    "    plt.show()\n",
    "    \n",
    "plot_df(df, x = df.index, y = df['sentiment'], title = 'Sentiment over time')"
   ]
  },
  {
   "cell_type": "code",
   "execution_count": 47,
   "id": "6d2cb80a",
   "metadata": {},
   "outputs": [
    {
     "data": {
      "text/html": [
       "<div>\n",
       "<style scoped>\n",
       "    .dataframe tbody tr th:only-of-type {\n",
       "        vertical-align: middle;\n",
       "    }\n",
       "\n",
       "    .dataframe tbody tr th {\n",
       "        vertical-align: top;\n",
       "    }\n",
       "\n",
       "    .dataframe thead th {\n",
       "        text-align: right;\n",
       "    }\n",
       "</style>\n",
       "<table border=\"1\" class=\"dataframe\">\n",
       "  <thead>\n",
       "    <tr style=\"text-align: right;\">\n",
       "      <th></th>\n",
       "      <th>date</th>\n",
       "      <th>text</th>\n",
       "      <th>sentiment</th>\n",
       "    </tr>\n",
       "  </thead>\n",
       "  <tbody>\n",
       "    <tr>\n",
       "      <th>0</th>\n",
       "      <td>2009-04-06 22:19:45</td>\n",
       "      <td>twitpiccom2y1zl awww thats bummer shoulda got ...</td>\n",
       "      <td>-0.3818</td>\n",
       "    </tr>\n",
       "    <tr>\n",
       "      <th>1</th>\n",
       "      <td>2009-04-06 22:19:49</td>\n",
       "      <td>upset cant update facebook texting might cry r...</td>\n",
       "      <td>-0.7269</td>\n",
       "    </tr>\n",
       "    <tr>\n",
       "      <th>2</th>\n",
       "      <td>2009-04-06 22:19:53</td>\n",
       "      <td>dived many time ball managed save 50 rest go b...</td>\n",
       "      <td>0.4939</td>\n",
       "    </tr>\n",
       "    <tr>\n",
       "      <th>3</th>\n",
       "      <td>2009-04-06 22:19:57</td>\n",
       "      <td>whole body feel itchy like fire</td>\n",
       "      <td>-0.2500</td>\n",
       "    </tr>\n",
       "    <tr>\n",
       "      <th>4</th>\n",
       "      <td>2009-04-06 22:19:57</td>\n",
       "      <td>behaving im mad cant see</td>\n",
       "      <td>-0.4939</td>\n",
       "    </tr>\n",
       "    <tr>\n",
       "      <th>...</th>\n",
       "      <td>...</td>\n",
       "      <td>...</td>\n",
       "      <td>...</td>\n",
       "    </tr>\n",
       "    <tr>\n",
       "      <th>800014</th>\n",
       "      <td>2009-04-06 22:22:53</td>\n",
       "      <td>make sure dm post link video ltlolgtso dont mi...</td>\n",
       "      <td>0.5481</td>\n",
       "    </tr>\n",
       "    <tr>\n",
       "      <th>800015</th>\n",
       "      <td>2009-04-06 22:22:54</td>\n",
       "      <td>added tweetie new iphone</td>\n",
       "      <td>0.0000</td>\n",
       "    </tr>\n",
       "    <tr>\n",
       "      <th>61</th>\n",
       "      <td>2009-04-06 22:22:55</td>\n",
       "      <td>leaving parking lot work</td>\n",
       "      <td>0.0000</td>\n",
       "    </tr>\n",
       "    <tr>\n",
       "      <th>800017</th>\n",
       "      <td>2009-04-06 22:22:55</td>\n",
       "      <td>picture sweet</td>\n",
       "      <td>0.4588</td>\n",
       "    </tr>\n",
       "    <tr>\n",
       "      <th>800019</th>\n",
       "      <td>2009-04-06 22:22:56</td>\n",
       "      <td>dancing around room pjs jamming ipod getting d...</td>\n",
       "      <td>0.0516</td>\n",
       "    </tr>\n",
       "  </tbody>\n",
       "</table>\n",
       "<p>80 rows × 3 columns</p>\n",
       "</div>"
      ],
      "text/plain": [
       "                      date                                               text  \\\n",
       "0      2009-04-06 22:19:45  twitpiccom2y1zl awww thats bummer shoulda got ...   \n",
       "1      2009-04-06 22:19:49  upset cant update facebook texting might cry r...   \n",
       "2      2009-04-06 22:19:53  dived many time ball managed save 50 rest go b...   \n",
       "3      2009-04-06 22:19:57                    whole body feel itchy like fire   \n",
       "4      2009-04-06 22:19:57                           behaving im mad cant see   \n",
       "...                    ...                                                ...   \n",
       "800014 2009-04-06 22:22:53  make sure dm post link video ltlolgtso dont mi...   \n",
       "800015 2009-04-06 22:22:54                           added tweetie new iphone   \n",
       "61     2009-04-06 22:22:55                           leaving parking lot work   \n",
       "800017 2009-04-06 22:22:55                                      picture sweet   \n",
       "800019 2009-04-06 22:22:56  dancing around room pjs jamming ipod getting d...   \n",
       "\n",
       "        sentiment  \n",
       "0         -0.3818  \n",
       "1         -0.7269  \n",
       "2          0.4939  \n",
       "3         -0.2500  \n",
       "4         -0.4939  \n",
       "...           ...  \n",
       "800014     0.5481  \n",
       "800015     0.0000  \n",
       "61         0.0000  \n",
       "800017     0.4588  \n",
       "800019     0.0516  \n",
       "\n",
       "[80 rows x 3 columns]"
      ]
     },
     "execution_count": 47,
     "metadata": {},
     "output_type": "execute_result"
    }
   ],
   "source": [
    "df.head(80)"
   ]
  },
  {
   "cell_type": "code",
   "execution_count": 48,
   "id": "8376adcf",
   "metadata": {},
   "outputs": [],
   "source": [
    "#df = df.reindex(date_range)\n",
    "\n",
    "#df['sentiment'] = df['sentiment'].bfill()"
   ]
  },
  {
   "cell_type": "code",
   "execution_count": 49,
   "id": "44068f83",
   "metadata": {},
   "outputs": [],
   "source": [
    "#missing_dates = date_range.difference(df['date'].index)         # Checking for empty dates\n",
    "#missing_dates = pd.DataFrame(missing_dates, columns = ['date'])\n",
    "\n",
    "#print(missing_dates)       # Showing the missing dates from the dataset"
   ]
  },
  {
   "cell_type": "code",
   "execution_count": 50,
   "id": "0b516424",
   "metadata": {},
   "outputs": [],
   "source": [
    "#df['sentiment'].isna().sum()      # Still some missing sentiments"
   ]
  },
  {
   "cell_type": "code",
   "execution_count": 51,
   "id": "bcf49b7c",
   "metadata": {},
   "outputs": [],
   "source": [
    "#df['sentiment'] = df['sentiment'].bfill()"
   ]
  },
  {
   "cell_type": "code",
   "execution_count": 52,
   "id": "6e5077fb",
   "metadata": {},
   "outputs": [
    {
     "data": {
      "text/plain": [
       "0"
      ]
     },
     "execution_count": 52,
     "metadata": {},
     "output_type": "execute_result"
    }
   ],
   "source": [
    "df['sentiment'].isna().sum()      # missing sentiments"
   ]
  },
  {
   "cell_type": "code",
   "execution_count": 53,
   "id": "69db9408",
   "metadata": {},
   "outputs": [
    {
     "data": {
      "text/plain": [
       "0"
      ]
     },
     "execution_count": 53,
     "metadata": {},
     "output_type": "execute_result"
    }
   ],
   "source": [
    "df['sentiment'].isnull().sum() "
   ]
  },
  {
   "cell_type": "code",
   "execution_count": 54,
   "id": "ff81c329",
   "metadata": {},
   "outputs": [
    {
     "data": {
      "text/plain": [
       "0"
      ]
     },
     "execution_count": 54,
     "metadata": {},
     "output_type": "execute_result"
    }
   ],
   "source": [
    "df['date'].isnull().sum()"
   ]
  },
  {
   "cell_type": "code",
   "execution_count": 55,
   "id": "3399720b",
   "metadata": {},
   "outputs": [
    {
     "data": {
      "text/plain": [
       "0"
      ]
     },
     "execution_count": 55,
     "metadata": {},
     "output_type": "execute_result"
    }
   ],
   "source": [
    "df['date'].isna().sum()"
   ]
  },
  {
   "cell_type": "code",
   "execution_count": 56,
   "id": "37a74604",
   "metadata": {},
   "outputs": [],
   "source": [
    "#df['sentiment'] = df['sentiment'].ffill().bfill()\n",
    "\n",
    "#df['sentiment'].isna().sum()"
   ]
  },
  {
   "cell_type": "code",
   "execution_count": 57,
   "id": "2efcc376",
   "metadata": {},
   "outputs": [
    {
     "data": {
      "text/html": [
       "<div>\n",
       "<style scoped>\n",
       "    .dataframe tbody tr th:only-of-type {\n",
       "        vertical-align: middle;\n",
       "    }\n",
       "\n",
       "    .dataframe tbody tr th {\n",
       "        vertical-align: top;\n",
       "    }\n",
       "\n",
       "    .dataframe thead th {\n",
       "        text-align: right;\n",
       "    }\n",
       "</style>\n",
       "<table border=\"1\" class=\"dataframe\">\n",
       "  <thead>\n",
       "    <tr style=\"text-align: right;\">\n",
       "      <th></th>\n",
       "      <th>date</th>\n",
       "      <th>text</th>\n",
       "      <th>sentiment</th>\n",
       "    </tr>\n",
       "  </thead>\n",
       "  <tbody>\n",
       "    <tr>\n",
       "      <th>799798</th>\n",
       "      <td>2009-06-25 10:22:38</td>\n",
       "      <td>meee</td>\n",
       "      <td>0.0000</td>\n",
       "    </tr>\n",
       "    <tr>\n",
       "      <th>799802</th>\n",
       "      <td>2009-06-25 10:22:40</td>\n",
       "      <td>sad farrah fawcett passed away 2 februar 1947 ...</td>\n",
       "      <td>-0.4767</td>\n",
       "    </tr>\n",
       "    <tr>\n",
       "      <th>799803</th>\n",
       "      <td>2009-06-25 10:23:49</td>\n",
       "      <td>oh jill munroe</td>\n",
       "      <td>0.0000</td>\n",
       "    </tr>\n",
       "    <tr>\n",
       "      <th>799808</th>\n",
       "      <td>2009-06-25 10:23:50</td>\n",
       "      <td>wanting go glastonbury regress youth work spoilt</td>\n",
       "      <td>0.0000</td>\n",
       "    </tr>\n",
       "    <tr>\n",
       "      <th>799817</th>\n",
       "      <td>2009-06-25 10:23:59</td>\n",
       "      <td>fellow texan</td>\n",
       "      <td>0.0000</td>\n",
       "    </tr>\n",
       "    <tr>\n",
       "      <th>...</th>\n",
       "      <td>...</td>\n",
       "      <td>...</td>\n",
       "      <td>...</td>\n",
       "    </tr>\n",
       "    <tr>\n",
       "      <th>799987</th>\n",
       "      <td>2009-06-25 10:28:26</td>\n",
       "      <td>rip farrah god bless prayer love go family fri...</td>\n",
       "      <td>0.8481</td>\n",
       "    </tr>\n",
       "    <tr>\n",
       "      <th>799989</th>\n",
       "      <td>2009-06-25 10:28:26</td>\n",
       "      <td>payed way overdue zta due goodbye 350 thats go...</td>\n",
       "      <td>-0.4215</td>\n",
       "    </tr>\n",
       "    <tr>\n",
       "      <th>799993</th>\n",
       "      <td>2009-06-25 10:28:27</td>\n",
       "      <td>life mattfca20090624yayme</td>\n",
       "      <td>0.0000</td>\n",
       "    </tr>\n",
       "    <tr>\n",
       "      <th>799995</th>\n",
       "      <td>2009-06-25 10:28:28</td>\n",
       "      <td>sick spending day laying bed listening</td>\n",
       "      <td>-0.5106</td>\n",
       "    </tr>\n",
       "    <tr>\n",
       "      <th>799997</th>\n",
       "      <td>2009-06-25 10:28:30</td>\n",
       "      <td>rest peace farrah sad</td>\n",
       "      <td>0.1027</td>\n",
       "    </tr>\n",
       "  </tbody>\n",
       "</table>\n",
       "<p>80 rows × 3 columns</p>\n",
       "</div>"
      ],
      "text/plain": [
       "                      date                                               text  \\\n",
       "799798 2009-06-25 10:22:38                                               meee   \n",
       "799802 2009-06-25 10:22:40  sad farrah fawcett passed away 2 februar 1947 ...   \n",
       "799803 2009-06-25 10:23:49                                     oh jill munroe   \n",
       "799808 2009-06-25 10:23:50   wanting go glastonbury regress youth work spoilt   \n",
       "799817 2009-06-25 10:23:59                                       fellow texan   \n",
       "...                    ...                                                ...   \n",
       "799987 2009-06-25 10:28:26  rip farrah god bless prayer love go family fri...   \n",
       "799989 2009-06-25 10:28:26  payed way overdue zta due goodbye 350 thats go...   \n",
       "799993 2009-06-25 10:28:27                          life mattfca20090624yayme   \n",
       "799995 2009-06-25 10:28:28             sick spending day laying bed listening   \n",
       "799997 2009-06-25 10:28:30                              rest peace farrah sad   \n",
       "\n",
       "        sentiment  \n",
       "799798     0.0000  \n",
       "799802    -0.4767  \n",
       "799803     0.0000  \n",
       "799808     0.0000  \n",
       "799817     0.0000  \n",
       "...           ...  \n",
       "799987     0.8481  \n",
       "799989    -0.4215  \n",
       "799993     0.0000  \n",
       "799995    -0.5106  \n",
       "799997     0.1027  \n",
       "\n",
       "[80 rows x 3 columns]"
      ]
     },
     "execution_count": 57,
     "metadata": {},
     "output_type": "execute_result"
    }
   ],
   "source": [
    "df.tail(80)"
   ]
  },
  {
   "cell_type": "code",
   "execution_count": 58,
   "id": "b49b2bf7",
   "metadata": {},
   "outputs": [
    {
     "name": "stdout",
     "output_type": "stream",
     "text": [
      "<class 'pandas.core.frame.DataFrame'>\n",
      "Int64Index: 659775 entries, 0 to 799997\n",
      "Data columns (total 3 columns):\n",
      " #   Column     Non-Null Count   Dtype         \n",
      "---  ------     --------------   -----         \n",
      " 0   date       659775 non-null  datetime64[ns]\n",
      " 1   text       659775 non-null  object        \n",
      " 2   sentiment  659775 non-null  float64       \n",
      "dtypes: datetime64[ns](1), float64(1), object(1)\n",
      "memory usage: 36.3+ MB\n"
     ]
    }
   ],
   "source": [
    "df = df.ffill().bfill()            # Front fill and backfill\n",
    "\n",
    "df.info()"
   ]
  },
  {
   "cell_type": "code",
   "execution_count": 59,
   "id": "51164e46",
   "metadata": {},
   "outputs": [
    {
     "name": "stdout",
     "output_type": "stream",
     "text": [
      "date is not the index\n"
     ]
    }
   ],
   "source": [
    "if df.index.name == 'date':           # checking if date is the index, it isn't\n",
    "    print('date is the index')\n",
    "else:\n",
    "    print('date is not the index')"
   ]
  },
  {
   "cell_type": "code",
   "execution_count": 60,
   "id": "150c070c",
   "metadata": {},
   "outputs": [
    {
     "name": "stdout",
     "output_type": "stream",
     "text": [
      "<class 'pandas.core.frame.DataFrame'>\n",
      "DatetimeIndex: 659775 entries, 2009-04-06 22:19:45 to 2009-06-25 10:28:30\n",
      "Data columns (total 2 columns):\n",
      " #   Column     Non-Null Count   Dtype  \n",
      "---  ------     --------------   -----  \n",
      " 0   text       659775 non-null  object \n",
      " 1   sentiment  659775 non-null  float64\n",
      "dtypes: float64(1), object(1)\n",
      "memory usage: 15.1+ MB\n"
     ]
    }
   ],
   "source": [
    "df.set_index('date', inplace = True)        # setting date as index\n",
    "\n",
    "df.info()"
   ]
  },
  {
   "cell_type": "code",
   "execution_count": 61,
   "id": "2a1245fe",
   "metadata": {},
   "outputs": [
    {
     "data": {
      "text/html": [
       "<div>\n",
       "<style scoped>\n",
       "    .dataframe tbody tr th:only-of-type {\n",
       "        vertical-align: middle;\n",
       "    }\n",
       "\n",
       "    .dataframe tbody tr th {\n",
       "        vertical-align: top;\n",
       "    }\n",
       "\n",
       "    .dataframe thead th {\n",
       "        text-align: right;\n",
       "    }\n",
       "</style>\n",
       "<table border=\"1\" class=\"dataframe\">\n",
       "  <thead>\n",
       "    <tr style=\"text-align: right;\">\n",
       "      <th></th>\n",
       "      <th>text</th>\n",
       "      <th>sentiment</th>\n",
       "    </tr>\n",
       "    <tr>\n",
       "      <th>date</th>\n",
       "      <th></th>\n",
       "      <th></th>\n",
       "    </tr>\n",
       "  </thead>\n",
       "  <tbody>\n",
       "    <tr>\n",
       "      <th>2009-04-06 22:19:45</th>\n",
       "      <td>twitpiccom2y1zl awww thats bummer shoulda got ...</td>\n",
       "      <td>-0.3818</td>\n",
       "    </tr>\n",
       "    <tr>\n",
       "      <th>2009-04-06 22:19:49</th>\n",
       "      <td>upset cant update facebook texting might cry r...</td>\n",
       "      <td>-0.7269</td>\n",
       "    </tr>\n",
       "    <tr>\n",
       "      <th>2009-04-06 22:19:53</th>\n",
       "      <td>dived many time ball managed save 50 rest go b...</td>\n",
       "      <td>0.4939</td>\n",
       "    </tr>\n",
       "    <tr>\n",
       "      <th>2009-04-06 22:19:57</th>\n",
       "      <td>whole body feel itchy like fire</td>\n",
       "      <td>-0.2500</td>\n",
       "    </tr>\n",
       "    <tr>\n",
       "      <th>2009-04-06 22:19:57</th>\n",
       "      <td>behaving im mad cant see</td>\n",
       "      <td>-0.4939</td>\n",
       "    </tr>\n",
       "    <tr>\n",
       "      <th>2009-04-06 22:20:00</th>\n",
       "      <td>whole crew</td>\n",
       "      <td>0.0000</td>\n",
       "    </tr>\n",
       "    <tr>\n",
       "      <th>2009-04-06 22:20:03</th>\n",
       "      <td>need hug</td>\n",
       "      <td>0.4767</td>\n",
       "    </tr>\n",
       "    <tr>\n",
       "      <th>2009-04-06 22:20:03</th>\n",
       "      <td>hey long time see yes rain bit bit lol im fine...</td>\n",
       "      <td>0.8481</td>\n",
       "    </tr>\n",
       "    <tr>\n",
       "      <th>2009-04-06 22:20:05</th>\n",
       "      <td>nope didnt</td>\n",
       "      <td>0.0000</td>\n",
       "    </tr>\n",
       "    <tr>\n",
       "      <th>2009-04-06 22:20:09</th>\n",
       "      <td>que muera</td>\n",
       "      <td>0.0000</td>\n",
       "    </tr>\n",
       "  </tbody>\n",
       "</table>\n",
       "</div>"
      ],
      "text/plain": [
       "                                                                  text  \\\n",
       "date                                                                     \n",
       "2009-04-06 22:19:45  twitpiccom2y1zl awww thats bummer shoulda got ...   \n",
       "2009-04-06 22:19:49  upset cant update facebook texting might cry r...   \n",
       "2009-04-06 22:19:53  dived many time ball managed save 50 rest go b...   \n",
       "2009-04-06 22:19:57                    whole body feel itchy like fire   \n",
       "2009-04-06 22:19:57                           behaving im mad cant see   \n",
       "2009-04-06 22:20:00                                         whole crew   \n",
       "2009-04-06 22:20:03                                           need hug   \n",
       "2009-04-06 22:20:03  hey long time see yes rain bit bit lol im fine...   \n",
       "2009-04-06 22:20:05                                         nope didnt   \n",
       "2009-04-06 22:20:09                                          que muera   \n",
       "\n",
       "                     sentiment  \n",
       "date                            \n",
       "2009-04-06 22:19:45    -0.3818  \n",
       "2009-04-06 22:19:49    -0.7269  \n",
       "2009-04-06 22:19:53     0.4939  \n",
       "2009-04-06 22:19:57    -0.2500  \n",
       "2009-04-06 22:19:57    -0.4939  \n",
       "2009-04-06 22:20:00     0.0000  \n",
       "2009-04-06 22:20:03     0.4767  \n",
       "2009-04-06 22:20:03     0.8481  \n",
       "2009-04-06 22:20:05     0.0000  \n",
       "2009-04-06 22:20:09     0.0000  "
      ]
     },
     "execution_count": 61,
     "metadata": {},
     "output_type": "execute_result"
    }
   ],
   "source": [
    "df.head(10)"
   ]
  },
  {
   "cell_type": "code",
   "execution_count": 62,
   "id": "44264a0a",
   "metadata": {},
   "outputs": [
    {
     "data": {
      "text/html": [
       "<div>\n",
       "<style scoped>\n",
       "    .dataframe tbody tr th:only-of-type {\n",
       "        vertical-align: middle;\n",
       "    }\n",
       "\n",
       "    .dataframe tbody tr th {\n",
       "        vertical-align: top;\n",
       "    }\n",
       "\n",
       "    .dataframe thead th {\n",
       "        text-align: right;\n",
       "    }\n",
       "</style>\n",
       "<table border=\"1\" class=\"dataframe\">\n",
       "  <thead>\n",
       "    <tr style=\"text-align: right;\">\n",
       "      <th></th>\n",
       "      <th>text</th>\n",
       "      <th>sentiment</th>\n",
       "    </tr>\n",
       "    <tr>\n",
       "      <th>date</th>\n",
       "      <th></th>\n",
       "      <th></th>\n",
       "    </tr>\n",
       "  </thead>\n",
       "  <tbody>\n",
       "    <tr>\n",
       "      <th>2009-04-06 22:19:45</th>\n",
       "      <td>twitpiccom2y1zl awww thats bummer shoulda got ...</td>\n",
       "      <td>-0.3818</td>\n",
       "    </tr>\n",
       "    <tr>\n",
       "      <th>2009-04-06 22:19:49</th>\n",
       "      <td>upset cant update facebook texting might cry r...</td>\n",
       "      <td>-0.7269</td>\n",
       "    </tr>\n",
       "    <tr>\n",
       "      <th>2009-04-06 22:19:53</th>\n",
       "      <td>dived many time ball managed save 50 rest go b...</td>\n",
       "      <td>0.4939</td>\n",
       "    </tr>\n",
       "    <tr>\n",
       "      <th>2009-04-06 22:19:57</th>\n",
       "      <td>whole body feel itchy like fire</td>\n",
       "      <td>-0.2500</td>\n",
       "    </tr>\n",
       "    <tr>\n",
       "      <th>2009-04-06 22:19:57</th>\n",
       "      <td>behaving im mad cant see</td>\n",
       "      <td>-0.4939</td>\n",
       "    </tr>\n",
       "    <tr>\n",
       "      <th>2009-04-06 22:20:00</th>\n",
       "      <td>whole crew</td>\n",
       "      <td>0.0000</td>\n",
       "    </tr>\n",
       "    <tr>\n",
       "      <th>2009-04-06 22:20:03</th>\n",
       "      <td>need hug</td>\n",
       "      <td>0.4767</td>\n",
       "    </tr>\n",
       "    <tr>\n",
       "      <th>2009-04-06 22:20:03</th>\n",
       "      <td>hey long time see yes rain bit bit lol im fine...</td>\n",
       "      <td>0.8481</td>\n",
       "    </tr>\n",
       "    <tr>\n",
       "      <th>2009-04-06 22:20:05</th>\n",
       "      <td>nope didnt</td>\n",
       "      <td>0.0000</td>\n",
       "    </tr>\n",
       "    <tr>\n",
       "      <th>2009-04-06 22:20:09</th>\n",
       "      <td>que muera</td>\n",
       "      <td>0.0000</td>\n",
       "    </tr>\n",
       "  </tbody>\n",
       "</table>\n",
       "</div>"
      ],
      "text/plain": [
       "                                                                  text  \\\n",
       "date                                                                     \n",
       "2009-04-06 22:19:45  twitpiccom2y1zl awww thats bummer shoulda got ...   \n",
       "2009-04-06 22:19:49  upset cant update facebook texting might cry r...   \n",
       "2009-04-06 22:19:53  dived many time ball managed save 50 rest go b...   \n",
       "2009-04-06 22:19:57                    whole body feel itchy like fire   \n",
       "2009-04-06 22:19:57                           behaving im mad cant see   \n",
       "2009-04-06 22:20:00                                         whole crew   \n",
       "2009-04-06 22:20:03                                           need hug   \n",
       "2009-04-06 22:20:03  hey long time see yes rain bit bit lol im fine...   \n",
       "2009-04-06 22:20:05                                         nope didnt   \n",
       "2009-04-06 22:20:09                                          que muera   \n",
       "\n",
       "                     sentiment  \n",
       "date                            \n",
       "2009-04-06 22:19:45    -0.3818  \n",
       "2009-04-06 22:19:49    -0.7269  \n",
       "2009-04-06 22:19:53     0.4939  \n",
       "2009-04-06 22:19:57    -0.2500  \n",
       "2009-04-06 22:19:57    -0.4939  \n",
       "2009-04-06 22:20:00     0.0000  \n",
       "2009-04-06 22:20:03     0.4767  \n",
       "2009-04-06 22:20:03     0.8481  \n",
       "2009-04-06 22:20:05     0.0000  \n",
       "2009-04-06 22:20:09     0.0000  "
      ]
     },
     "execution_count": 62,
     "metadata": {},
     "output_type": "execute_result"
    }
   ],
   "source": [
    "hourly_avg = df.resample('H').mean()\n",
    "\n",
    "df.head(10)"
   ]
  },
  {
   "cell_type": "code",
   "execution_count": 63,
   "id": "a3a272a5",
   "metadata": {},
   "outputs": [],
   "source": [
    "hourly_avg.reset_index(inplace = True)       # Reset index to keep date as a column"
   ]
  },
  {
   "cell_type": "code",
   "execution_count": 64,
   "id": "41255744",
   "metadata": {},
   "outputs": [],
   "source": [
    "hourly_avg.rename(columns = {'sentiment': 'hourly_avg_sentiment'}, inplace = True) # Rename sentiment column to hourly_avg_sentiment"
   ]
  },
  {
   "cell_type": "code",
   "execution_count": 65,
   "id": "3721796f",
   "metadata": {},
   "outputs": [
    {
     "name": "stdout",
     "output_type": "stream",
     "text": [
      "<class 'pandas.core.frame.DataFrame'>\n",
      "RangeIndex: 1909 entries, 0 to 1908\n",
      "Data columns (total 2 columns):\n",
      " #   Column                Non-Null Count  Dtype         \n",
      "---  ------                --------------  -----         \n",
      " 0   date                  1909 non-null   datetime64[ns]\n",
      " 1   hourly_avg_sentiment  593 non-null    float64       \n",
      "dtypes: datetime64[ns](1), float64(1)\n",
      "memory usage: 30.0 KB\n"
     ]
    }
   ],
   "source": [
    "df = hourly_avg     # Using only the hourly average values going forward\n",
    "\n",
    "df.info()"
   ]
  },
  {
   "cell_type": "code",
   "execution_count": 66,
   "id": "2af42012",
   "metadata": {},
   "outputs": [
    {
     "data": {
      "text/plain": [
       "date                       0\n",
       "hourly_avg_sentiment    1316\n",
       "dtype: int64"
      ]
     },
     "execution_count": 66,
     "metadata": {},
     "output_type": "execute_result"
    }
   ],
   "source": [
    "df.isnull().sum()"
   ]
  },
  {
   "cell_type": "code",
   "execution_count": 67,
   "id": "4b3dc18b",
   "metadata": {},
   "outputs": [
    {
     "data": {
      "text/plain": [
       "date                       0\n",
       "hourly_avg_sentiment    1316\n",
       "dtype: int64"
      ]
     },
     "execution_count": 67,
     "metadata": {},
     "output_type": "execute_result"
    }
   ],
   "source": [
    "df.isna().sum()"
   ]
  },
  {
   "cell_type": "code",
   "execution_count": 68,
   "id": "60bb384e",
   "metadata": {},
   "outputs": [
    {
     "data": {
      "text/plain": [
       "date                    0\n",
       "hourly_avg_sentiment    0\n",
       "dtype: int64"
      ]
     },
     "execution_count": 68,
     "metadata": {},
     "output_type": "execute_result"
    }
   ],
   "source": [
    "df = df.ffill().bfill()     # forward and back fill hourly values where missing\n",
    "\n",
    "df.isna().sum()"
   ]
  },
  {
   "cell_type": "code",
   "execution_count": 69,
   "id": "a9df079c",
   "metadata": {},
   "outputs": [
    {
     "data": {
      "text/plain": [
       "date                    0\n",
       "hourly_avg_sentiment    0\n",
       "dtype: int64"
      ]
     },
     "execution_count": 69,
     "metadata": {},
     "output_type": "execute_result"
    }
   ],
   "source": [
    "df.isnull().sum()"
   ]
  },
  {
   "cell_type": "code",
   "execution_count": 70,
   "id": "cd735784",
   "metadata": {},
   "outputs": [
    {
     "name": "stdout",
     "output_type": "stream",
     "text": [
      "<class 'pandas.core.frame.DataFrame'>\n",
      "RangeIndex: 1909 entries, 0 to 1908\n",
      "Data columns (total 2 columns):\n",
      " #   Column                Non-Null Count  Dtype         \n",
      "---  ------                --------------  -----         \n",
      " 0   date                  1909 non-null   datetime64[ns]\n",
      " 1   hourly_avg_sentiment  1909 non-null   float64       \n",
      "dtypes: datetime64[ns](1), float64(1)\n",
      "memory usage: 30.0 KB\n"
     ]
    }
   ],
   "source": [
    "df.info()"
   ]
  },
  {
   "cell_type": "code",
   "execution_count": 71,
   "id": "baa4f730",
   "metadata": {},
   "outputs": [
    {
     "data": {
      "text/html": [
       "<div>\n",
       "<style scoped>\n",
       "    .dataframe tbody tr th:only-of-type {\n",
       "        vertical-align: middle;\n",
       "    }\n",
       "\n",
       "    .dataframe tbody tr th {\n",
       "        vertical-align: top;\n",
       "    }\n",
       "\n",
       "    .dataframe thead th {\n",
       "        text-align: right;\n",
       "    }\n",
       "</style>\n",
       "<table border=\"1\" class=\"dataframe\">\n",
       "  <thead>\n",
       "    <tr style=\"text-align: right;\">\n",
       "      <th></th>\n",
       "      <th>date</th>\n",
       "      <th>hourly_avg_sentiment</th>\n",
       "    </tr>\n",
       "  </thead>\n",
       "  <tbody>\n",
       "    <tr>\n",
       "      <th>0</th>\n",
       "      <td>2009-04-06 22:00:00</td>\n",
       "      <td>0.131349</td>\n",
       "    </tr>\n",
       "    <tr>\n",
       "      <th>1</th>\n",
       "      <td>2009-04-06 23:00:00</td>\n",
       "      <td>0.151259</td>\n",
       "    </tr>\n",
       "    <tr>\n",
       "      <th>2</th>\n",
       "      <td>2009-04-07 00:00:00</td>\n",
       "      <td>0.163168</td>\n",
       "    </tr>\n",
       "    <tr>\n",
       "      <th>3</th>\n",
       "      <td>2009-04-07 01:00:00</td>\n",
       "      <td>0.154655</td>\n",
       "    </tr>\n",
       "    <tr>\n",
       "      <th>4</th>\n",
       "      <td>2009-04-07 02:00:00</td>\n",
       "      <td>0.179830</td>\n",
       "    </tr>\n",
       "  </tbody>\n",
       "</table>\n",
       "</div>"
      ],
      "text/plain": [
       "                 date  hourly_avg_sentiment\n",
       "0 2009-04-06 22:00:00              0.131349\n",
       "1 2009-04-06 23:00:00              0.151259\n",
       "2 2009-04-07 00:00:00              0.163168\n",
       "3 2009-04-07 01:00:00              0.154655\n",
       "4 2009-04-07 02:00:00              0.179830"
      ]
     },
     "execution_count": 71,
     "metadata": {},
     "output_type": "execute_result"
    }
   ],
   "source": [
    "df.head(5)"
   ]
  },
  {
   "cell_type": "code",
   "execution_count": 72,
   "id": "a70504ba",
   "metadata": {},
   "outputs": [],
   "source": [
    "#count = df.count()              # making train size to split into train and test data\n",
    "#train_size = count * 0.8\n",
    "\n",
    "#print(train_size)"
   ]
  },
  {
   "cell_type": "code",
   "execution_count": 73,
   "id": "f379d7e2",
   "metadata": {},
   "outputs": [
    {
     "data": {
      "text/plain": [
       "(168, 2)"
      ]
     },
     "execution_count": 73,
     "metadata": {},
     "output_type": "execute_result"
    }
   ],
   "source": [
    "split_index = int(len(df) * 0.8)          # Split into train and test\n",
    "\n",
    "df_train = df.iloc[:split_index]\n",
    "df_test = df.iloc[split_index:split_index + 24 * 7]       # 7 days of values being predicted\n",
    "\n",
    "\n",
    "df_test.shape       # sense checking correct shape"
   ]
  },
  {
   "cell_type": "code",
   "execution_count": 74,
   "id": "3f7ab11d",
   "metadata": {},
   "outputs": [
    {
     "data": {
      "text/plain": [
       "(1527, 2)"
      ]
     },
     "execution_count": 74,
     "metadata": {},
     "output_type": "execute_result"
    }
   ],
   "source": [
    "df_train.shape      # sense checking correct shape"
   ]
  },
  {
   "cell_type": "code",
   "execution_count": 75,
   "id": "56f292f3",
   "metadata": {},
   "outputs": [
    {
     "data": {
      "image/png": "[encoded data removed]",
      "text/plain": [
       "<Figure size 640x480 with 1 Axes>"
      ]
     },
     "metadata": {},
     "output_type": "display_data"
    }
   ],
   "source": [
    "plt.plot(df_train, color = 'black')         # Displaying actual data\n",
    "plt.plot(df_test, color = 'red')\n",
    "\n",
    "plt.xlabel('Date')\n",
    "plt.ylabel('Average sentiment per hour')\n",
    "\n",
    "plt.xticks(rotation = 45)\n",
    "plt.title(\"Train/Test split for average sentiment\", fontweight = 'bold')\n",
    "\n",
    "plt.show()"
   ]
  },
  {
   "cell_type": "code",
   "execution_count": 76,
   "id": "0c3a3f2c",
   "metadata": {},
   "outputs": [
    {
     "data": {
      "text/plain": [
       "date                    0\n",
       "hourly_avg_sentiment    0\n",
       "dtype: int64"
      ]
     },
     "execution_count": 76,
     "metadata": {},
     "output_type": "execute_result"
    }
   ],
   "source": [
    "df.isna().sum()"
   ]
  },
  {
   "cell_type": "code",
   "execution_count": null,
   "id": "b5786043",
   "metadata": {},
   "outputs": [],
   "source": []
  },
  {
   "cell_type": "code",
   "execution_count": 77,
   "id": "a8799d84",
   "metadata": {},
   "outputs": [],
   "source": [
    "from statsmodels.tsa.statespace.sarimax import SARIMAX   # Bringing in the SARIMAX class \n",
    "from statsmodels.tsa.arima.model import ARIMA\n",
    "import numpy as np\n",
    "from sklearn.metrics import mean_squared_error\n",
    "\n",
    "y = df_train['hourly_avg_sentiment']\n",
    "\n",
    "ARMAmodel = ARIMA(y, order = (0, 1, 0))        # Had to adjust these parameters as getting warning around convergence\n",
    "ARMAmodel = ARMAmodel.fit()\n",
    "\n",
    "#SARIMAXmodel = SARIMAX(y, order = (1, 2, 2), seasonal_order = (2, 2, 2, 12))\n",
    "#SARIMAXmodel = SARIMAXmodel.fit()"
   ]
  },
  {
   "cell_type": "code",
   "execution_count": 78,
   "id": "3dd263a4",
   "metadata": {},
   "outputs": [],
   "source": [
    "y_pred = ARMAmodel.get_forecast(len(df_test.index))\n",
    "\n",
    "y_pred_df = y_pred.conf_int(alpha = 0.05)\n",
    "\n",
    "y_pred_df.index = df_test.index[:24 * 7]"
   ]
  },
  {
   "cell_type": "code",
   "execution_count": 79,
   "id": "ff5b07de",
   "metadata": {},
   "outputs": [],
   "source": [
    "first_seven_days = y_pred_df.index[:24 * 7]\n",
    "\n",
    "\n",
    "y_pred_df['Predictions'] = ARMAmodel.predict(start = first_seven_days[0], end = first_seven_days[-1]) # first 7 days prediction\n",
    "\n"
   ]
  },
  {
   "cell_type": "code",
   "execution_count": 80,
   "id": "c06ea216",
   "metadata": {},
   "outputs": [],
   "source": [
    "y_pred_df.index = df_test.index\n",
    "\n",
    "y_pred_out_ARMA = y_pred_df['Predictions']"
   ]
  },
  {
   "cell_type": "code",
   "execution_count": 81,
   "id": "28a3e722",
   "metadata": {},
   "outputs": [
    {
     "data": {
      "text/plain": [
       "<matplotlib.legend.Legend at 0x285c4cd11c0>"
      ]
     },
     "execution_count": 81,
     "metadata": {},
     "output_type": "execute_result"
    },
    {
     "data": {
      "image/png": "[encoded data removed]",
      "text/plain": [
       "<Figure size 640x480 with 1 Axes>"
      ]
     },
     "metadata": {},
     "output_type": "display_data"
    }
   ],
   "source": [
    "plt.plot(y_pred_out_ARMA, color = 'green', label = 'Predictions')\n",
    "\n",
    "plt.legend()"
   ]
  },
  {
   "cell_type": "code",
   "execution_count": 82,
   "id": "4ce2dad7",
   "metadata": {
    "scrolled": true
   },
   "outputs": [
    {
     "name": "stdout",
     "output_type": "stream",
     "text": [
      "ARMA rmse: 0.030204001379829908\n"
     ]
    }
   ],
   "source": [
    "arma_rmse = np.sqrt(mean_squared_error(df_test['hourly_avg_sentiment'].values, y_pred_df['Predictions']))\n",
    "\n",
    "print('ARMA rmse:', arma_rmse)       # "
   ]
  },
  {
   "cell_type": "code",
   "execution_count": 83,
   "id": "73f0d516",
   "metadata": {},
   "outputs": [
    {
     "data": {
      "text/plain": [
       "1527    0.157986\n",
       "1528    0.157986\n",
       "1529    0.157986\n",
       "1530    0.157986\n",
       "1531    0.157986\n",
       "          ...   \n",
       "1690    0.157986\n",
       "1691    0.157986\n",
       "1692    0.157986\n",
       "1693    0.157986\n",
       "1694    0.157986\n",
       "Name: Predictions, Length: 168, dtype: float64"
      ]
     },
     "execution_count": 83,
     "metadata": {},
     "output_type": "execute_result"
    }
   ],
   "source": [
    "y_pred_df['Predictions']"
   ]
  },
  {
   "cell_type": "code",
   "execution_count": 84,
   "id": "4863212d",
   "metadata": {},
   "outputs": [
    {
     "data": {
      "text/plain": [
       "0"
      ]
     },
     "execution_count": 84,
     "metadata": {},
     "output_type": "execute_result"
    }
   ],
   "source": [
    "df_test['hourly_avg_sentiment'].isna().sum()"
   ]
  },
  {
   "cell_type": "code",
   "execution_count": 85,
   "id": "b184ec3a",
   "metadata": {},
   "outputs": [
    {
     "data": {
      "text/plain": [
       "0"
      ]
     },
     "execution_count": 85,
     "metadata": {},
     "output_type": "execute_result"
    }
   ],
   "source": [
    "y_pred_df['Predictions'].isna().sum()"
   ]
  },
  {
   "cell_type": "code",
   "execution_count": 86,
   "id": "c2a60617",
   "metadata": {},
   "outputs": [
    {
     "name": "stderr",
     "output_type": "stream",
     "text": [
      "C:\\Users\\paddy\\anaconda3\\lib\\site-packages\\statsmodels\\base\\model.py:604: ConvergenceWarning: Maximum Likelihood optimization failed to converge. Check mle_retvals\n",
      "  warnings.warn(\"Maximum Likelihood optimization failed to \"\n"
     ]
    },
    {
     "name": "stdout",
     "output_type": "stream",
     "text": [
      "RMSE: 0.0181\n",
      "RMSE: 0.0312\n",
      "RMSE: 0.0512\n",
      "RMSE: 0.0248\n",
      "RMSE: 0.1520\n"
     ]
    }
   ],
   "source": [
    "from sklearn.model_selection import TimeSeriesSplit # Using timeseries cross validation to verify results\n",
    "\n",
    "tscv = TimeSeriesSplit(n_splits = 5)\n",
    "\n",
    "for train_index, test_index in tscv.split(df['hourly_avg_sentiment']):\n",
    "    train, test = df['hourly_avg_sentiment'].iloc[train_index], df['hourly_avg_sentiment'].iloc[test_index]\n",
    "    model = ARIMA(train, order = (1, 1, 1))\n",
    "    model_fit = model.fit()\n",
    "    predictions = model_fit.forecast(len(test))\n",
    "    rmse = np.sqrt(mean_squared_error(test, predictions))\n",
    "    print('RMSE: %.4f' % rmse) \n",
    "    \n",
    "    # Inconsistent results across folds\n",
    "    # Model performs well on some areas of the timeseries, but struggles with other parts of the data"
   ]
  },
  {
   "cell_type": "code",
   "execution_count": 87,
   "id": "e8ac9bab",
   "metadata": {},
   "outputs": [],
   "source": [
    "#SARIMAXmodel = SARIMAX(y, order = (1, 2, 2), seasonal_order = (2, 2, 2, 12))"
   ]
  },
  {
   "cell_type": "code",
   "execution_count": 88,
   "id": "2d59efe3",
   "metadata": {},
   "outputs": [],
   "source": [
    "#SARIMAXmodel = SARIMAXmodel.fit()"
   ]
  },
  {
   "cell_type": "code",
   "execution_count": 89,
   "id": "8b3f3549",
   "metadata": {},
   "outputs": [],
   "source": [
    "#plt.figure(figsize = (12, 6))\n",
    "\n",
    "#plt.plot(df['date'], df['sentiment'], marker = 'o', linestyle = '-', label = 'Sentiment')\n",
    "\n",
    "\n",
    "#for missing_date in missing_dates:\n",
    "#    plt.axvline(x = missing_date, color = 'r', linestyle = '--', alpha = 0.5)\n",
    "#\n",
    "#plt.xlabel('Date', fontweight = 'bold', fontsize = 14)\n",
    "#plt.ylabel('Sentiment', fontweight = 'bold', fontsize = 14)\n",
    "#plt.title('Sentiment over time including missing dates', fontweight = 'bold', fontsize = 18)\n",
    "#plt.legend()\n",
    "#plt.yticks([])\n",
    "#plt.grid(True)\n",
    "\n",
    "#plt.show()            # Visualising the number of missing dates"
   ]
  },
  {
   "cell_type": "code",
   "execution_count": 90,
   "id": "f7ed6511",
   "metadata": {},
   "outputs": [],
   "source": [
    "#from scipy.interpolate import interp1d\n"
   ]
  },
  {
   "cell_type": "code",
   "execution_count": 91,
   "id": "53f236b1",
   "metadata": {},
   "outputs": [],
   "source": [
    "#print(missing_dates)"
   ]
  },
  {
   "cell_type": "code",
   "execution_count": 92,
   "id": "97393cbf",
   "metadata": {},
   "outputs": [
    {
     "data": {
      "text/html": [
       "<div>\n",
       "<style scoped>\n",
       "    .dataframe tbody tr th:only-of-type {\n",
       "        vertical-align: middle;\n",
       "    }\n",
       "\n",
       "    .dataframe tbody tr th {\n",
       "        vertical-align: top;\n",
       "    }\n",
       "\n",
       "    .dataframe thead th {\n",
       "        text-align: right;\n",
       "    }\n",
       "</style>\n",
       "<table border=\"1\" class=\"dataframe\">\n",
       "  <thead>\n",
       "    <tr style=\"text-align: right;\">\n",
       "      <th></th>\n",
       "      <th>date</th>\n",
       "      <th>hourly_avg_sentiment</th>\n",
       "    </tr>\n",
       "  </thead>\n",
       "  <tbody>\n",
       "    <tr>\n",
       "      <th>0</th>\n",
       "      <td>2009-04-06 22:00:00</td>\n",
       "      <td>0.131349</td>\n",
       "    </tr>\n",
       "    <tr>\n",
       "      <th>1</th>\n",
       "      <td>2009-04-06 23:00:00</td>\n",
       "      <td>0.151259</td>\n",
       "    </tr>\n",
       "    <tr>\n",
       "      <th>2</th>\n",
       "      <td>2009-04-07 00:00:00</td>\n",
       "      <td>0.163168</td>\n",
       "    </tr>\n",
       "    <tr>\n",
       "      <th>3</th>\n",
       "      <td>2009-04-07 01:00:00</td>\n",
       "      <td>0.154655</td>\n",
       "    </tr>\n",
       "    <tr>\n",
       "      <th>4</th>\n",
       "      <td>2009-04-07 02:00:00</td>\n",
       "      <td>0.179830</td>\n",
       "    </tr>\n",
       "  </tbody>\n",
       "</table>\n",
       "</div>"
      ],
      "text/plain": [
       "                 date  hourly_avg_sentiment\n",
       "0 2009-04-06 22:00:00              0.131349\n",
       "1 2009-04-06 23:00:00              0.151259\n",
       "2 2009-04-07 00:00:00              0.163168\n",
       "3 2009-04-07 01:00:00              0.154655\n",
       "4 2009-04-07 02:00:00              0.179830"
      ]
     },
     "execution_count": 92,
     "metadata": {},
     "output_type": "execute_result"
    }
   ],
   "source": [
    "df.head(5)"
   ]
  },
  {
   "cell_type": "code",
   "execution_count": 93,
   "id": "353611bd",
   "metadata": {},
   "outputs": [],
   "source": [
    "data = df.filter(['hourly_avg_sentiment'])   # taking single column for array"
   ]
  },
  {
   "cell_type": "code",
   "execution_count": 94,
   "id": "f8fbae8f",
   "metadata": {},
   "outputs": [
    {
     "name": "stdout",
     "output_type": "stream",
     "text": [
      "array([[ 0.13134945],\n",
      "       [ 0.15125878],\n",
      "       [ 0.16316783],\n",
      "       ...,\n",
      "       [-0.01472786],\n",
      "       [-0.03304987],\n",
      "       [-0.08543832]])\n"
     ]
    }
   ],
   "source": [
    "import pprint\n",
    "\n",
    "dataset = data.values      # Converting to numpy array for NN\n",
    "\n",
    "pprint.pprint(dataset)  # check is array"
   ]
  },
  {
   "cell_type": "code",
   "execution_count": 95,
   "id": "a0916a14",
   "metadata": {},
   "outputs": [
    {
     "data": {
      "text/plain": [
       "1528"
      ]
     },
     "execution_count": 95,
     "metadata": {},
     "output_type": "execute_result"
    }
   ],
   "source": [
    "import math\n",
    "\n",
    "training_data_len = math.ceil(len(dataset) * .8)     # making array of length of training data this time\n",
    "\n",
    "training_data_len   # length is as expected"
   ]
  },
  {
   "cell_type": "code",
   "execution_count": 96,
   "id": "a9317877",
   "metadata": {},
   "outputs": [
    {
     "data": {
      "text/plain": [
       "array([[ 0.13134945],\n",
       "       [ 0.15125878],\n",
       "       [ 0.16316783],\n",
       "       ...,\n",
       "       [-0.01472786],\n",
       "       [-0.03304987],\n",
       "       [-0.08543832]])"
      ]
     },
     "execution_count": 96,
     "metadata": {},
     "output_type": "execute_result"
    }
   ],
   "source": [
    "dataset"
   ]
  },
  {
   "cell_type": "code",
   "execution_count": 97,
   "id": "bc3ee4e0",
   "metadata": {},
   "outputs": [
    {
     "data": {
      "text/plain": [
       "(1528, 1)"
      ]
     },
     "execution_count": 97,
     "metadata": {},
     "output_type": "execute_result"
    }
   ],
   "source": [
    "train_data = dataset[0 : training_data_len, :]     # creating training data variable\n",
    "\n",
    "train_data.shape"
   ]
  },
  {
   "cell_type": "code",
   "execution_count": 98,
   "id": "056ae9e1",
   "metadata": {},
   "outputs": [],
   "source": [
    "x_train = []       # creating arrays to hold the training and test data\n",
    "y_train = []\n"
   ]
  },
  {
   "cell_type": "code",
   "execution_count": 99,
   "id": "83b20408",
   "metadata": {},
   "outputs": [],
   "source": [
    "for i in range(40, len(train_data)):          # 40 lags as paramenter\n",
    "    x_train.append(train_data[i-40:i, 0])\n",
    "    y_train.append(train_data[i, 0])\n"
   ]
  },
  {
   "cell_type": "code",
   "execution_count": 100,
   "id": "09cd3f68",
   "metadata": {},
   "outputs": [],
   "source": [
    "x_train, y_train = np.array(x_train), np.array(y_train)  # Turning training data into numpy arrays for LSTM model"
   ]
  },
  {
   "cell_type": "code",
   "execution_count": 101,
   "id": "c8eca5a0",
   "metadata": {},
   "outputs": [
    {
     "data": {
      "text/plain": [
       "(1488, 40, 1)"
      ]
     },
     "execution_count": 101,
     "metadata": {},
     "output_type": "execute_result"
    }
   ],
   "source": [
    "x_train = np.reshape(x_train, (x_train.shape[0], x_train.shape[1], 1))   # turning x_train into 3D for LSTM model\n",
    "\n",
    "x_train.shape       # 1528 - 40 lags = 1488"
   ]
  },
  {
   "cell_type": "code",
   "execution_count": 102,
   "id": "e76ba35c",
   "metadata": {},
   "outputs": [],
   "source": [
    "from keras.models import Sequential           # Bringing in keras to build our LSTM network\n",
    "from keras.layers import Dense, LSTM\n",
    "plt.style.use('fivethirtyeight')\n"
   ]
  },
  {
   "cell_type": "code",
   "execution_count": 103,
   "id": "aa7dbdc2",
   "metadata": {},
   "outputs": [],
   "source": [
    "model = Sequential()           # Building the NN with 3 hidden layers\n",
    "model.add(LSTM(5, return_sequences = True, input_shape = (x_train.shape[1], 1)))\n",
    "model.add(LSTM(3, return_sequences = False))\n",
    "model.add(Dense(2))\n",
    "model.add(Dense(1))\n"
   ]
  },
  {
   "cell_type": "code",
   "execution_count": 104,
   "id": "85ce30bd",
   "metadata": {},
   "outputs": [],
   "source": [
    "model.compile(optimizer = 'adam', loss = 'mean_squared_error')  \n",
    "\n",
    "                                            # Compiling the model, start optimizer and loss function for regression"
   ]
  },
  {
   "cell_type": "code",
   "execution_count": 105,
   "id": "985824c9",
   "metadata": {},
   "outputs": [
    {
     "name": "stdout",
     "output_type": "stream",
     "text": [
      "Epoch 1/5\n",
      "298/298 [==============================] - 16s 45ms/step - loss: 7.5964e-04\n",
      "Epoch 2/5\n",
      "298/298 [==============================] - 14s 48ms/step - loss: 3.6901e-04\n",
      "Epoch 3/5\n",
      "298/298 [==============================] - 17s 57ms/step - loss: 3.6000e-04\n",
      "Epoch 4/5\n",
      "298/298 [==============================] - 16s 53ms/step - loss: 3.3520e-04\n",
      "Epoch 5/5\n",
      "298/298 [==============================] - 16s 52ms/step - loss: 3.4381e-04\n"
     ]
    },
    {
     "data": {
      "text/plain": [
       "<keras.callbacks.History at 0x285d19a46a0>"
      ]
     },
     "execution_count": 105,
     "metadata": {},
     "output_type": "execute_result"
    }
   ],
   "source": [
    "model.fit(x_train, y_train, batch_size = 5, epochs = 5)\n"
   ]
  },
  {
   "cell_type": "code",
   "execution_count": 106,
   "id": "d640a0a5",
   "metadata": {},
   "outputs": [],
   "source": [
    "test_data = dataset[training_data_len -40: , :]     # creating array of values for test set\n"
   ]
  },
  {
   "cell_type": "code",
   "execution_count": 107,
   "id": "e062b4b8",
   "metadata": {},
   "outputs": [],
   "source": [
    "x_test = []                                         # creating the test set\n",
    "y_test = dataset[training_data_len:, :]"
   ]
  },
  {
   "cell_type": "code",
   "execution_count": 108,
   "id": "2c77be2a",
   "metadata": {},
   "outputs": [],
   "source": [
    "for i in range(40, len(test_data)):       # Loop to populate x_test and y_test using the number of lags specified\n",
    "    x_test.append(test_data[i - 40:i, 0])\n"
   ]
  },
  {
   "cell_type": "code",
   "execution_count": 109,
   "id": "e403d4d6",
   "metadata": {},
   "outputs": [],
   "source": [
    "x_test = np.array(x_test)    # converting to numpy array "
   ]
  },
  {
   "cell_type": "code",
   "execution_count": 110,
   "id": "3f078c5c",
   "metadata": {},
   "outputs": [],
   "source": [
    "x_test = np.reshape(x_test, (x_test.shape[0], x_test.shape[1], 1))     # Convert to 3D\n"
   ]
  },
  {
   "cell_type": "code",
   "execution_count": 111,
   "id": "6d360591",
   "metadata": {},
   "outputs": [
    {
     "name": "stdout",
     "output_type": "stream",
     "text": [
      "12/12 [==============================] - 1s 15ms/step\n"
     ]
    }
   ],
   "source": [
    "predictions = model.predict(x_test)   # Making the prediction"
   ]
  },
  {
   "cell_type": "code",
   "execution_count": 112,
   "id": "087fe45b",
   "metadata": {},
   "outputs": [
    {
     "name": "stdout",
     "output_type": "stream",
     "text": [
      "root mean squared error: 0.05222505997951041\n"
     ]
    }
   ],
   "source": [
    "rmse = np.sqrt(mean_squared_error(y_test, predictions))       # Getting the root mean squared error and displaying\n",
    "\n",
    "print('root mean squared error:', rmse)\n"
   ]
  },
  {
   "cell_type": "code",
   "execution_count": 113,
   "id": "ec880042",
   "metadata": {},
   "outputs": [
    {
     "name": "stderr",
     "output_type": "stream",
     "text": [
      "C:\\Users\\paddy\\AppData\\Local\\Temp\\ipykernel_368\\2125500193.py:3: SettingWithCopyWarning: \n",
      "A value is trying to be set on a copy of a slice from a DataFrame.\n",
      "Try using .loc[row_indexer,col_indexer] = value instead\n",
      "\n",
      "See the caveats in the documentation: https://pandas.pydata.org/pandas-docs/stable/user_guide/indexing.html#returning-a-view-versus-a-copy\n",
      "  valid['Predictions'] = predictions        # Attaching actual values beside predicted values in a dataframe\n"
     ]
    }
   ],
   "source": [
    "train = data[:training_data_len]         \n",
    "valid = data[training_data_len:]\n",
    "valid['Predictions'] = predictions        # Attaching actual values beside predicted values in a dataframe"
   ]
  },
  {
   "cell_type": "code",
   "execution_count": 114,
   "id": "ecc640a5",
   "metadata": {},
   "outputs": [
    {
     "data": {
      "image/png": "[encoded data removed]",
      "text/plain": [
       "<Figure size 1600x800 with 1 Axes>"
      ]
     },
     "metadata": {},
     "output_type": "display_data"
    }
   ],
   "source": [
    "plt.figure(figsize = (16, 8))\n",
    "plt.title('LSTM model of Tweet sentiment')\n",
    "plt.xlabel('Date', fontsize = 15, fontweight = 'bold')\n",
    "plt.ylabel('Average Hourly Sentiment', fontsize = 15, fontweight = 'bold')\n",
    "\n",
    "plt.plot(train['hourly_avg_sentiment'])\n",
    "plt.plot(valid[['hourly_avg_sentiment', 'Predictions']])\n",
    "plt.legend(['Train', 'Valid', 'Predictions'], loc = 'lower right')\n",
    "\n",
    "plt.show()    # Visualising training, validation set and predictions"
   ]
  },
  {
   "cell_type": "code",
   "execution_count": 115,
   "id": "6e9b23c5",
   "metadata": {},
   "outputs": [],
   "source": [
    "#for i in range(60, len(train_data)):          # 60 lags as paramenter\n",
    " #   x_train.append(train_data[i-60:i, 0])\n",
    "#    y_train.append(train_data[i, 0])"
   ]
  },
  {
   "cell_type": "code",
   "execution_count": 116,
   "id": "118ec68f",
   "metadata": {},
   "outputs": [],
   "source": [
    "#x_train, y_train = np.array(x_train), np.array(y_train)  # Turning training data into numpy arrays for LSTM model"
   ]
  },
  {
   "cell_type": "code",
   "execution_count": 117,
   "id": "271a5d98",
   "metadata": {},
   "outputs": [],
   "source": [
    "#x_train = np.reshape(x_train, (x_train.shape[0], x_train.shape[1], 1))   # turning x_train into 3D for LSTM model\n",
    "\n",
    "#x_train.shape       # 1528 - 60 lags = 1468"
   ]
  },
  {
   "cell_type": "code",
   "execution_count": 118,
   "id": "d4bdf9de",
   "metadata": {},
   "outputs": [],
   "source": [
    "model = Sequential()           # Building the NN with 4 hidden layers\n",
    "model.add(LSTM(10, return_sequences = True, input_shape = (x_train.shape[1], 1)))\n",
    "model.add(LSTM(5, return_sequences = True))\n",
    "model.add(LSTM(4, return_sequences = False))\n",
    "model.add(Dense(2))\n",
    "model.add(Dense(1))\n"
   ]
  },
  {
   "cell_type": "code",
   "execution_count": 119,
   "id": "f8b43fcf",
   "metadata": {},
   "outputs": [],
   "source": [
    "model.compile(optimizer = 'adam', loss = 'mean_squared_error')  \n",
    "\n",
    "# Compiling the model, start optimizer and loss function for regression"
   ]
  },
  {
   "cell_type": "code",
   "execution_count": 120,
   "id": "653291a9",
   "metadata": {},
   "outputs": [
    {
     "name": "stdout",
     "output_type": "stream",
     "text": [
      "Epoch 1/10\n",
      "149/149 [==============================] - 16s 79ms/step - loss: 0.0023\n",
      "Epoch 2/10\n",
      "149/149 [==============================] - 13s 84ms/step - loss: 6.3660e-04\n",
      "Epoch 3/10\n",
      "149/149 [==============================] - 13s 85ms/step - loss: 5.5499e-04\n",
      "Epoch 4/10\n",
      "149/149 [==============================] - 13s 86ms/step - loss: 4.6676e-04\n",
      "Epoch 5/10\n",
      "149/149 [==============================] - 12s 81ms/step - loss: 4.5600e-04\n",
      "Epoch 6/10\n",
      "149/149 [==============================] - 13s 85ms/step - loss: 4.2118e-04\n",
      "Epoch 7/10\n",
      "149/149 [==============================] - 13s 86ms/step - loss: 4.2354e-04\n",
      "Epoch 8/10\n",
      "149/149 [==============================] - 13s 86ms/step - loss: 3.9483e-04\n",
      "Epoch 9/10\n",
      "149/149 [==============================] - 13s 84ms/step - loss: 3.7158e-04\n",
      "Epoch 10/10\n",
      "149/149 [==============================] - 13s 85ms/step - loss: 3.6829e-04\n"
     ]
    },
    {
     "data": {
      "text/plain": [
       "<keras.callbacks.History at 0x285d72e9be0>"
      ]
     },
     "execution_count": 120,
     "metadata": {},
     "output_type": "execute_result"
    }
   ],
   "source": [
    "model.fit(x_train, y_train, batch_size = 10, epochs = 10)   # Increased number of batches and epochs"
   ]
  },
  {
   "cell_type": "code",
   "execution_count": 121,
   "id": "5b54ab37",
   "metadata": {},
   "outputs": [],
   "source": [
    "test_data = dataset[training_data_len -40: , :]     # 40 lags"
   ]
  },
  {
   "cell_type": "code",
   "execution_count": 122,
   "id": "6265484c",
   "metadata": {},
   "outputs": [],
   "source": [
    "x_test = []                                         # creating the test set\n",
    "y_test = dataset[training_data_len:, :]"
   ]
  },
  {
   "cell_type": "code",
   "execution_count": 123,
   "id": "c682b768",
   "metadata": {},
   "outputs": [],
   "source": [
    "for i in range(40, len(test_data)):       # Loop to populate x_test and y_test using the number of lags specified\n",
    "    x_test.append(test_data[i - 40:i, 0])\n"
   ]
  },
  {
   "cell_type": "code",
   "execution_count": 124,
   "id": "7aab6298",
   "metadata": {},
   "outputs": [],
   "source": [
    "x_test = np.array(x_test)    # converting to numpy array "
   ]
  },
  {
   "cell_type": "code",
   "execution_count": 125,
   "id": "c7327456",
   "metadata": {},
   "outputs": [],
   "source": [
    "x_test = np.reshape(x_test, (x_test.shape[0], x_test.shape[1], 1))     # Convert to 3D"
   ]
  },
  {
   "cell_type": "code",
   "execution_count": 126,
   "id": "227cc37d",
   "metadata": {
    "scrolled": true
   },
   "outputs": [
    {
     "name": "stdout",
     "output_type": "stream",
     "text": [
      "12/12 [==============================] - 1s 21ms/step\n"
     ]
    }
   ],
   "source": [
    "predictions = model.predict(x_test)   # Making the prediction"
   ]
  },
  {
   "cell_type": "code",
   "execution_count": 127,
   "id": "de0354fa",
   "metadata": {},
   "outputs": [
    {
     "name": "stdout",
     "output_type": "stream",
     "text": [
      "root mean squared error: 0.060548452706395924\n"
     ]
    }
   ],
   "source": [
    "rmse = np.sqrt(mean_squared_error(y_test, predictions))       # Getting the root mean squared error and displaying\n",
    "\n",
    "print('root mean squared error:', rmse)        # Score not as good as original iteration\n"
   ]
  },
  {
   "cell_type": "code",
   "execution_count": 128,
   "id": "321452fa",
   "metadata": {},
   "outputs": [
    {
     "name": "stderr",
     "output_type": "stream",
     "text": [
      "C:\\Users\\paddy\\AppData\\Local\\Temp\\ipykernel_368\\2245529663.py:3: SettingWithCopyWarning: \n",
      "A value is trying to be set on a copy of a slice from a DataFrame.\n",
      "Try using .loc[row_indexer,col_indexer] = value instead\n",
      "\n",
      "See the caveats in the documentation: https://pandas.pydata.org/pandas-docs/stable/user_guide/indexing.html#returning-a-view-versus-a-copy\n",
      "  valid['Predictions'] = predictions\n"
     ]
    }
   ],
   "source": [
    "train = data[:training_data_len]         \n",
    "valid = data[training_data_len:]\n",
    "valid['Predictions'] = predictions   "
   ]
  },
  {
   "cell_type": "code",
   "execution_count": 129,
   "id": "185513de",
   "metadata": {},
   "outputs": [
    {
     "data": {
      "image/png": "[encoded data removed]",
      "text/plain": [
       "<Figure size 1600x800 with 1 Axes>"
      ]
     },
     "metadata": {},
     "output_type": "display_data"
    }
   ],
   "source": [
    "plt.figure(figsize = (16, 8))\n",
    "plt.title('LSTM model of Tweet sentiment 2')\n",
    "plt.xlabel('Date', fontsize = 15, fontweight = 'bold')\n",
    "plt.ylabel('Average Hourly Sentiment', fontsize = 15, fontweight = 'bold')\n",
    "\n",
    "plt.plot(train['hourly_avg_sentiment'])\n",
    "plt.plot(valid[['hourly_avg_sentiment', 'Predictions']])\n",
    "plt.legend(['Train', 'Valid', 'Predictions'], loc = 'lower right')\n",
    "\n",
    "plt.show()    # Visualising training, validation set and predictions for the second attempt of LSTM"
   ]
  },
  {
   "cell_type": "markdown",
   "id": "b998a97e",
   "metadata": {},
   "source": [
    "# Unused code"
   ]
  },
  {
   "cell_type": "code",
   "execution_count": 130,
   "id": "287e91b6",
   "metadata": {},
   "outputs": [],
   "source": [
    "##from nltk.sentiment import SentimentIntensityAnalyzer     # Bringing in the module for vader sentiment analysis\n",
    "\n",
    "#nltk.download('vader_lexicon')\n",
    "\n",
    "#sid = SentimentIntensityAnalyzer()         # Initialising vader sentiment analyzer\n",
    "\n",
    "#def sentiment_label(text):\n",
    "#    scores = sid.polarity_scores(text)\n",
    "#    max_score = max(scores, key = scores.get)\n",
    "    \n",
    "#    if max_score == 'compound':                         # labelling the sentiment based off score from -1 to 1\n",
    "#        if scores[max_score] >= 0.05:\n",
    "#            return 'positive'\n",
    " #       elif scores[max_score] <= -0.05:\n",
    " #           return 'negative'\n",
    "  #      else:\n",
    " #           return 'neutral'\n",
    "        \n",
    " #   else:\n",
    "  #      if max_score == 'pos':\n",
    "  #          return 'positive'\n",
    "  #      elif max_score == 'neg':\n",
    "  #          return 'negative'\n",
    "  #      else:\n",
    "   #         return 'neutral'\n",
    "        # return max_score\n",
    "        \n",
    "    \n",
    "\n",
    "#df['sentiment'] = df['text'].apply(sentiment_label)\n",
    "\n",
    "#df.head(5)"
   ]
  },
  {
   "cell_type": "code",
   "execution_count": 131,
   "id": "bc70db2f",
   "metadata": {},
   "outputs": [],
   "source": [
    "#df.info()"
   ]
  },
  {
   "cell_type": "code",
   "execution_count": 132,
   "id": "1f6d76c6",
   "metadata": {},
   "outputs": [],
   "source": [
    "#df.tail(5)"
   ]
  },
  {
   "cell_type": "code",
   "execution_count": 133,
   "id": "108a3d2e",
   "metadata": {},
   "outputs": [],
   "source": [
    "#import seaborn as sns\n",
    "\n",
    "#sentiment_counts = df['sentiment'].value_counts()           # Count of sentiment labels\n",
    "#sorted_sentiments = sentiment_counts.index.tolist()         # Sorting sentiments by highest count\n",
    "\n",
    "#sns.set_style('whitegrid')\n",
    "#ax = sns.countplot(x = 'sentiment', data = df, order = sorted_sentiments, palette = 'summer')\n",
    "#ax.set_xlabel('Sentiment', fontweight = 'bold')\n",
    "#ax.set_ylabel('Count', fontweight = 'bold')\n",
    "\n",
    "#plt.show()       # Display sentiment counts in order based off vader sentiment analysis"
   ]
  },
  {
   "cell_type": "code",
   "execution_count": 134,
   "id": "35ed5d8f",
   "metadata": {},
   "outputs": [],
   "source": [
    "#print(sentiment_counts)"
   ]
  },
  {
   "cell_type": "code",
   "execution_count": 135,
   "id": "091da438",
   "metadata": {},
   "outputs": [],
   "source": [
    "#df_neutral = df[df['sentiment'] == 'neutral'] [0:50000]    # Extracting each sentiment value for even spread\n",
    "#df_positive = df[df['sentiment'] == 'positive'] [0:50000]\n",
    "#df_negative = df[df['sentiment'] == 'negative'] [0:50000]\n"
   ]
  },
  {
   "cell_type": "code",
   "execution_count": 136,
   "id": "5eaae40c",
   "metadata": {},
   "outputs": [],
   "source": [
    "#df_positive.info()"
   ]
  },
  {
   "cell_type": "code",
   "execution_count": 137,
   "id": "2387810a",
   "metadata": {},
   "outputs": [],
   "source": [
    "#df_neutral.info()"
   ]
  },
  {
   "cell_type": "code",
   "execution_count": 138,
   "id": "10aa411a",
   "metadata": {},
   "outputs": [],
   "source": [
    "#df_merged = pd.concat([df_neutral, df_positive, df_negative], axis = 0) # Bringing the 3 sentiment dataframes together\n",
    "\n",
    "\n",
    "#pd.to_datetime(df['date'])\n",
    "\n",
    "#df_merged = df_merged.sort_values(by = 'date')           # sorting by earliest to latest tweet\n",
    "\n",
    "#df_merged = df_merged.reset_index(drop = True)\n",
    "\n",
    "#df_merged.head(5)"
   ]
  },
  {
   "cell_type": "code",
   "execution_count": 139,
   "id": "0664b2f5",
   "metadata": {},
   "outputs": [],
   "source": [
    "#is_sorted = df['date'].is_monotonic_increasing \n",
    "\n",
    "#if is_sorted:\n",
    "#    print ('is sorted by time')\n",
    "#else:\n",
    "#    print('is not sorted by time') # checking again if sorted by time"
   ]
  },
  {
   "cell_type": "code",
   "execution_count": 140,
   "id": "6f80b432",
   "metadata": {},
   "outputs": [],
   "source": [
    "#df_merged.tail(5)"
   ]
  },
  {
   "cell_type": "code",
   "execution_count": 141,
   "id": "1c399d11",
   "metadata": {},
   "outputs": [],
   "source": [
    "#df_merged.info()            # checking number of rows"
   ]
  },
  {
   "cell_type": "code",
   "execution_count": 142,
   "id": "33e113ce",
   "metadata": {},
   "outputs": [],
   "source": [
    "#df_merged.head(5)"
   ]
  },
  {
   "cell_type": "code",
   "execution_count": 143,
   "id": "8552426a",
   "metadata": {},
   "outputs": [],
   "source": [
    "#df = df_merged\n",
    "\n",
    "#df.head(5)"
   ]
  },
  {
   "cell_type": "code",
   "execution_count": null,
   "id": "370dd1ee",
   "metadata": {},
   "outputs": [],
   "source": []
  },
  {
   "cell_type": "code",
   "execution_count": 144,
   "id": "28144042",
   "metadata": {},
   "outputs": [],
   "source": [
    "#numerical = pd.get_dummies(df['sentiment'])       # Making numerical data out of the categorical data\n",
    "\n",
    "#df.drop(['sentiment'], axis = 1, inplace = True)\n",
    "\n",
    "#df = pd.concat([df, numerical], axis = 1)        # Combine the numerical data with the df dataframe\n",
    "\n",
    "#df.head(10)"
   ]
  },
  {
   "cell_type": "code",
   "execution_count": null,
   "id": "d7d39044",
   "metadata": {},
   "outputs": [],
   "source": []
  }
 ],
 "metadata": {
  "kernelspec": {
   "display_name": "Python 3 (ipykernel)",
   "language": "python",
   "name": "python3"
  },
  "language_info": {
   "codemirror_mode": {
    "name": "ipython",
    "version": 3
   },
   "file_extension": ".py",
   "mimetype": "text/x-python",
   "name": "python",
   "nbconvert_exporter": "python",
   "pygments_lexer": "ipython3",
   "version": "3.9.13"
  }
 },
 "nbformat": 4,
 "nbformat_minor": 5
}
