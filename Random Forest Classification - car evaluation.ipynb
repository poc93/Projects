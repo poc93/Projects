{
 "cells": [
  {
   "cell_type": "code",
   "execution_count": 1,
   "id": "b65b7fae",
   "metadata": {},
   "outputs": [
    {
     "data": {
      "text/html": [
       "<div>\n",
       "<style scoped>\n",
       "    .dataframe tbody tr th:only-of-type {\n",
       "        vertical-align: middle;\n",
       "    }\n",
       "\n",
       "    .dataframe tbody tr th {\n",
       "        vertical-align: top;\n",
       "    }\n",
       "\n",
       "    .dataframe thead th {\n",
       "        text-align: right;\n",
       "    }\n",
       "</style>\n",
       "<table border=\"1\" class=\"dataframe\">\n",
       "  <thead>\n",
       "    <tr style=\"text-align: right;\">\n",
       "      <th></th>\n",
       "      <th>buying</th>\n",
       "      <th>maint</th>\n",
       "      <th>doors</th>\n",
       "      <th>persons</th>\n",
       "      <th>lug_boot</th>\n",
       "      <th>safety</th>\n",
       "      <th>class</th>\n",
       "    </tr>\n",
       "  </thead>\n",
       "  <tbody>\n",
       "    <tr>\n",
       "      <th>0</th>\n",
       "      <td>vhigh</td>\n",
       "      <td>vhigh</td>\n",
       "      <td>2</td>\n",
       "      <td>2</td>\n",
       "      <td>small</td>\n",
       "      <td>med</td>\n",
       "      <td>unacc</td>\n",
       "    </tr>\n",
       "    <tr>\n",
       "      <th>1</th>\n",
       "      <td>vhigh</td>\n",
       "      <td>vhigh</td>\n",
       "      <td>2</td>\n",
       "      <td>2</td>\n",
       "      <td>small</td>\n",
       "      <td>high</td>\n",
       "      <td>unacc</td>\n",
       "    </tr>\n",
       "    <tr>\n",
       "      <th>2</th>\n",
       "      <td>vhigh</td>\n",
       "      <td>vhigh</td>\n",
       "      <td>2</td>\n",
       "      <td>2</td>\n",
       "      <td>med</td>\n",
       "      <td>low</td>\n",
       "      <td>unacc</td>\n",
       "    </tr>\n",
       "    <tr>\n",
       "      <th>3</th>\n",
       "      <td>vhigh</td>\n",
       "      <td>vhigh</td>\n",
       "      <td>2</td>\n",
       "      <td>2</td>\n",
       "      <td>med</td>\n",
       "      <td>med</td>\n",
       "      <td>unacc</td>\n",
       "    </tr>\n",
       "    <tr>\n",
       "      <th>4</th>\n",
       "      <td>vhigh</td>\n",
       "      <td>vhigh</td>\n",
       "      <td>2</td>\n",
       "      <td>2</td>\n",
       "      <td>med</td>\n",
       "      <td>high</td>\n",
       "      <td>unacc</td>\n",
       "    </tr>\n",
       "    <tr>\n",
       "      <th>5</th>\n",
       "      <td>vhigh</td>\n",
       "      <td>vhigh</td>\n",
       "      <td>2</td>\n",
       "      <td>2</td>\n",
       "      <td>big</td>\n",
       "      <td>low</td>\n",
       "      <td>unacc</td>\n",
       "    </tr>\n",
       "    <tr>\n",
       "      <th>6</th>\n",
       "      <td>vhigh</td>\n",
       "      <td>vhigh</td>\n",
       "      <td>2</td>\n",
       "      <td>2</td>\n",
       "      <td>big</td>\n",
       "      <td>med</td>\n",
       "      <td>unacc</td>\n",
       "    </tr>\n",
       "    <tr>\n",
       "      <th>7</th>\n",
       "      <td>vhigh</td>\n",
       "      <td>vhigh</td>\n",
       "      <td>2</td>\n",
       "      <td>2</td>\n",
       "      <td>big</td>\n",
       "      <td>high</td>\n",
       "      <td>unacc</td>\n",
       "    </tr>\n",
       "    <tr>\n",
       "      <th>8</th>\n",
       "      <td>vhigh</td>\n",
       "      <td>vhigh</td>\n",
       "      <td>2</td>\n",
       "      <td>4</td>\n",
       "      <td>small</td>\n",
       "      <td>low</td>\n",
       "      <td>unacc</td>\n",
       "    </tr>\n",
       "    <tr>\n",
       "      <th>9</th>\n",
       "      <td>vhigh</td>\n",
       "      <td>vhigh</td>\n",
       "      <td>2</td>\n",
       "      <td>4</td>\n",
       "      <td>small</td>\n",
       "      <td>med</td>\n",
       "      <td>unacc</td>\n",
       "    </tr>\n",
       "  </tbody>\n",
       "</table>\n",
       "</div>"
      ],
      "text/plain": [
       "  buying  maint doors persons lug_boot safety  class\n",
       "0  vhigh  vhigh     2       2    small    med  unacc\n",
       "1  vhigh  vhigh     2       2    small   high  unacc\n",
       "2  vhigh  vhigh     2       2      med    low  unacc\n",
       "3  vhigh  vhigh     2       2      med    med  unacc\n",
       "4  vhigh  vhigh     2       2      med   high  unacc\n",
       "5  vhigh  vhigh     2       2      big    low  unacc\n",
       "6  vhigh  vhigh     2       2      big    med  unacc\n",
       "7  vhigh  vhigh     2       2      big   high  unacc\n",
       "8  vhigh  vhigh     2       4    small    low  unacc\n",
       "9  vhigh  vhigh     2       4    small    med  unacc"
      ]
     },
     "execution_count": 1,
     "metadata": {},
     "output_type": "execute_result"
    }
   ],
   "source": [
    "import pandas as pd\n",
    "import numpy as np\n",
    "import matplotlib.pyplot as plt        # Gave column names to each column on import\n",
    "import warnings\n",
    "warnings.filterwarnings('ignore')\n",
    "\n",
    "\n",
    "col_names = ['buying', 'maint', 'doors', 'persons', 'lug_boot', 'safety', 'class']\n",
    "\n",
    "df = pd.read_csv('car_evaluation.csv', header = 0, names = col_names)\n",
    "\n",
    "df.head(10)"
   ]
  },
  {
   "cell_type": "code",
   "execution_count": 2,
   "id": "c403ba77",
   "metadata": {},
   "outputs": [
    {
     "name": "stdout",
     "output_type": "stream",
     "text": [
      "<class 'pandas.core.frame.DataFrame'>\n",
      "RangeIndex: 1727 entries, 0 to 1726\n",
      "Data columns (total 7 columns):\n",
      " #   Column    Non-Null Count  Dtype \n",
      "---  ------    --------------  ----- \n",
      " 0   buying    1727 non-null   object\n",
      " 1   maint     1727 non-null   object\n",
      " 2   doors     1727 non-null   object\n",
      " 3   persons   1727 non-null   object\n",
      " 4   lug_boot  1727 non-null   object\n",
      " 5   safety    1727 non-null   object\n",
      " 6   class     1727 non-null   object\n",
      "dtypes: object(7)\n",
      "memory usage: 94.6+ KB\n"
     ]
    }
   ],
   "source": [
    "df.info()  # Inspecting the dataset, no null values but all strings"
   ]
  },
  {
   "cell_type": "code",
   "execution_count": 3,
   "id": "28aee508",
   "metadata": {},
   "outputs": [],
   "source": [
    "#conda install -c conda-forge category_encoders"
   ]
  },
  {
   "cell_type": "code",
   "execution_count": 4,
   "id": "75131a04",
   "metadata": {},
   "outputs": [
    {
     "name": "stdout",
     "output_type": "stream",
     "text": [
      "False\n"
     ]
    }
   ],
   "source": [
    "#if isinstance(df, pd.DataFrame):\n",
    "#    print('True')\n",
    "#else:\n",
    "#\n",
    "print('False')"
   ]
  },
  {
   "cell_type": "code",
   "execution_count": 5,
   "id": "38f2ab9d",
   "metadata": {},
   "outputs": [
    {
     "name": "stdout",
     "output_type": "stream",
     "text": [
      "buying ['vhigh' 'high' 'med' 'low']\n",
      "maint ['vhigh' 'high' 'med' 'low']\n",
      "doors ['2' '3' '4' '5more']\n",
      "persons ['2' '4' 'more']\n",
      "lug_boot ['small' 'med' 'big']\n",
      "safety ['med' 'high' 'low']\n",
      "class ['unacc' 'acc' 'vgood' 'good']\n"
     ]
    }
   ],
   "source": [
    "for column in df.columns:   # Finding unique values for each column for encoding each value next\n",
    "    unique_values = df[column].unique()\n",
    "    \n",
    "    print(df[column].name, unique_values)"
   ]
  },
  {
   "cell_type": "code",
   "execution_count": 6,
   "id": "3c0a7d0f",
   "metadata": {},
   "outputs": [
    {
     "data": {
      "text/html": [
       "<div>\n",
       "<style scoped>\n",
       "    .dataframe tbody tr th:only-of-type {\n",
       "        vertical-align: middle;\n",
       "    }\n",
       "\n",
       "    .dataframe tbody tr th {\n",
       "        vertical-align: top;\n",
       "    }\n",
       "\n",
       "    .dataframe thead th {\n",
       "        text-align: right;\n",
       "    }\n",
       "</style>\n",
       "<table border=\"1\" class=\"dataframe\">\n",
       "  <thead>\n",
       "    <tr style=\"text-align: right;\">\n",
       "      <th></th>\n",
       "      <th>buying</th>\n",
       "      <th>maint</th>\n",
       "      <th>doors</th>\n",
       "      <th>persons</th>\n",
       "      <th>lug_boot</th>\n",
       "      <th>safety</th>\n",
       "      <th>class</th>\n",
       "    </tr>\n",
       "  </thead>\n",
       "  <tbody>\n",
       "    <tr>\n",
       "      <th>0</th>\n",
       "      <td>3</td>\n",
       "      <td>3</td>\n",
       "      <td>2</td>\n",
       "      <td>0</td>\n",
       "      <td>0</td>\n",
       "      <td>1</td>\n",
       "      <td>0</td>\n",
       "    </tr>\n",
       "    <tr>\n",
       "      <th>1</th>\n",
       "      <td>3</td>\n",
       "      <td>3</td>\n",
       "      <td>2</td>\n",
       "      <td>0</td>\n",
       "      <td>0</td>\n",
       "      <td>2</td>\n",
       "      <td>0</td>\n",
       "    </tr>\n",
       "    <tr>\n",
       "      <th>2</th>\n",
       "      <td>3</td>\n",
       "      <td>3</td>\n",
       "      <td>2</td>\n",
       "      <td>0</td>\n",
       "      <td>1</td>\n",
       "      <td>0</td>\n",
       "      <td>0</td>\n",
       "    </tr>\n",
       "    <tr>\n",
       "      <th>3</th>\n",
       "      <td>3</td>\n",
       "      <td>3</td>\n",
       "      <td>2</td>\n",
       "      <td>0</td>\n",
       "      <td>1</td>\n",
       "      <td>1</td>\n",
       "      <td>0</td>\n",
       "    </tr>\n",
       "    <tr>\n",
       "      <th>4</th>\n",
       "      <td>3</td>\n",
       "      <td>3</td>\n",
       "      <td>2</td>\n",
       "      <td>0</td>\n",
       "      <td>1</td>\n",
       "      <td>2</td>\n",
       "      <td>0</td>\n",
       "    </tr>\n",
       "    <tr>\n",
       "      <th>5</th>\n",
       "      <td>3</td>\n",
       "      <td>3</td>\n",
       "      <td>2</td>\n",
       "      <td>0</td>\n",
       "      <td>2</td>\n",
       "      <td>0</td>\n",
       "      <td>0</td>\n",
       "    </tr>\n",
       "    <tr>\n",
       "      <th>6</th>\n",
       "      <td>3</td>\n",
       "      <td>3</td>\n",
       "      <td>2</td>\n",
       "      <td>0</td>\n",
       "      <td>2</td>\n",
       "      <td>1</td>\n",
       "      <td>0</td>\n",
       "    </tr>\n",
       "    <tr>\n",
       "      <th>7</th>\n",
       "      <td>3</td>\n",
       "      <td>3</td>\n",
       "      <td>2</td>\n",
       "      <td>0</td>\n",
       "      <td>2</td>\n",
       "      <td>2</td>\n",
       "      <td>0</td>\n",
       "    </tr>\n",
       "    <tr>\n",
       "      <th>8</th>\n",
       "      <td>3</td>\n",
       "      <td>3</td>\n",
       "      <td>2</td>\n",
       "      <td>1</td>\n",
       "      <td>0</td>\n",
       "      <td>0</td>\n",
       "      <td>0</td>\n",
       "    </tr>\n",
       "    <tr>\n",
       "      <th>9</th>\n",
       "      <td>3</td>\n",
       "      <td>3</td>\n",
       "      <td>2</td>\n",
       "      <td>1</td>\n",
       "      <td>0</td>\n",
       "      <td>1</td>\n",
       "      <td>0</td>\n",
       "    </tr>\n",
       "  </tbody>\n",
       "</table>\n",
       "</div>"
      ],
      "text/plain": [
       "   buying  maint  doors  persons  lug_boot  safety  class\n",
       "0       3      3      2        0         0       1      0\n",
       "1       3      3      2        0         0       2      0\n",
       "2       3      3      2        0         1       0      0\n",
       "3       3      3      2        0         1       1      0\n",
       "4       3      3      2        0         1       2      0\n",
       "5       3      3      2        0         2       0      0\n",
       "6       3      3      2        0         2       1      0\n",
       "7       3      3      2        0         2       2      0\n",
       "8       3      3      2        1         0       0      0\n",
       "9       3      3      2        1         0       1      0"
      ]
     },
     "execution_count": 6,
     "metadata": {},
     "output_type": "execute_result"
    }
   ],
   "source": [
    "import category_encoders as ce       # Encoding the values of each column to make more compatible for random forest model\n",
    "\n",
    "\n",
    "encoders = [\n",
    "    ce.OrdinalEncoder(cols = ['class'],\n",
    "                            return_df = True,\n",
    "                            mapping = [{'col': 'class', 'mapping': {'unacc': 0, 'acc': 1, 'good': 2, 'vgood': 3}}]),\n",
    "    \n",
    "    ce.OrdinalEncoder(cols = ['safety'],\n",
    "                            return_df = True,\n",
    "                            mapping = [{'col': 'safety', 'mapping': {'low': 0, 'med': 1, 'high': 2}}]),\n",
    "\n",
    "    ce.OrdinalEncoder(cols = ['lug_boot'],\n",
    "                            return_df = True,\n",
    "                            mapping = [{'col': 'lug_boot', 'mapping': {'small': 0, 'med': 1, 'big': 2}}]),\n",
    "\n",
    "\n",
    "    ce.OrdinalEncoder(cols = ['persons'],\n",
    "                             return_df = True,\n",
    "                             mapping = [{'col': 'persons', 'mapping': {'2': 0, '4': 1, 'more': 2}}]),\n",
    "\n",
    "    ce.OrdinalEncoder(cols = ['doors'],\n",
    "                            return_df = True,\n",
    "                            mapping = [{'col': 'doors', 'mapping': {'2': 2, '3': 3, '4': 4, '5more': 5}}]),\n",
    "\n",
    "\n",
    "    ce.OrdinalEncoder(cols = ['maint'],\n",
    "                            return_df = True,\n",
    "                            mapping = [{'col': 'maint', 'mapping': {'low': 0, 'med': 1, 'high': 2, 'vhigh': 3}}]),\n",
    "\n",
    "    ce.OrdinalEncoder(cols = ['buying'], \n",
    "                             return_df = True,\n",
    "                            mapping = [{'col': 'buying', 'mapping': {'low': 0, 'med': 1, 'high': 2, 'vhigh': 3}}])]\n",
    "\n",
    "\n",
    "\n",
    "#df_copy = encoder1.fit_transform(df)\n",
    "#df_copy = encoder2.fit_transform(df_copy)\n",
    "#df_copy = encoder3.fit_transform(df_copy)\n",
    "#df_copy = encoder4.fit_transform(df_copy)\n",
    "#df_copy = encoder5.fit_transform(df_copy)\n",
    "#df_copy = encoder6.fit_transform(df_copy)\n",
    "#df_copy = encoder7.fit_transform(df_copy)\n",
    "\n",
    "df_copy = df.copy()\n",
    "\n",
    "\n",
    "for encoder in encoders:                         # Using loop to apply encoder to each copy of the dataframe\n",
    "   \n",
    "    df_copy = encoder.fit_transform(df_copy)       \n",
    "    \n",
    "\n",
    "df_1 = df_copy.copy()\n",
    "\n",
    "df_1.head(10)\n"
   ]
  },
  {
   "cell_type": "code",
   "execution_count": 7,
   "id": "33efe1b1",
   "metadata": {},
   "outputs": [
    {
     "data": {
      "text/plain": [
       "buying      0\n",
       "maint       0\n",
       "doors       0\n",
       "persons     0\n",
       "lug_boot    0\n",
       "safety      0\n",
       "class       0\n",
       "dtype: int64"
      ]
     },
     "execution_count": 7,
     "metadata": {},
     "output_type": "execute_result"
    }
   ],
   "source": [
    "df_1.isnull().sum()         # Checking for null values, all good"
   ]
  },
  {
   "cell_type": "code",
   "execution_count": 8,
   "id": "b73fb2d8",
   "metadata": {},
   "outputs": [],
   "source": [
    "x = df_1.drop(['class'], axis = 1)     # Splitting x and y out into numpy arrays for train/test split\n",
    "y = df_1['class']\n",
    "\n",
    "x = pd.DataFrame(x).to_numpy()\n",
    "y = pd.DataFrame(y).to_numpy()"
   ]
  },
  {
   "cell_type": "code",
   "execution_count": 9,
   "id": "4d4d92b0",
   "metadata": {},
   "outputs": [],
   "source": [
    "from sklearn.model_selection import train_test_split        # Splitting data into training and test sets\n",
    "\n",
    "x_train, x_test, y_train, y_test = train_test_split(x, y, test_size = 0.25, random_state = 40)"
   ]
  },
  {
   "cell_type": "code",
   "execution_count": 10,
   "id": "c469af2e",
   "metadata": {},
   "outputs": [
    {
     "data": {
      "text/plain": [
       "array([[3, 0, 5, 0, 0, 0],\n",
       "       [0, 3, 4, 0, 1, 0],\n",
       "       [0, 2, 2, 2, 0, 1],\n",
       "       ...,\n",
       "       [3, 3, 2, 0, 2, 2],\n",
       "       [3, 1, 2, 0, 1, 1],\n",
       "       [0, 3, 4, 0, 0, 1]])"
      ]
     },
     "execution_count": 10,
     "metadata": {},
     "output_type": "execute_result"
    }
   ],
   "source": [
    "x_train"
   ]
  },
  {
   "cell_type": "code",
   "execution_count": 11,
   "id": "e77984e3",
   "metadata": {},
   "outputs": [
    {
     "data": {
      "text/plain": [
       "array([[0],\n",
       "       [0],\n",
       "       [0],\n",
       "       ...,\n",
       "       [0],\n",
       "       [0],\n",
       "       [0]])"
      ]
     },
     "execution_count": 11,
     "metadata": {},
     "output_type": "execute_result"
    }
   ],
   "source": [
    "y_train"
   ]
  },
  {
   "cell_type": "code",
   "execution_count": 12,
   "id": "7ad699fc",
   "metadata": {},
   "outputs": [
    {
     "data": {
      "text/plain": [
       "((1295, 6), (432, 6))"
      ]
     },
     "execution_count": 12,
     "metadata": {},
     "output_type": "execute_result"
    }
   ],
   "source": [
    "x_train.shape, x_test.shape    # checking the shape of the x sets, expected shape"
   ]
  },
  {
   "cell_type": "code",
   "execution_count": 13,
   "id": "b43c30b6",
   "metadata": {},
   "outputs": [],
   "source": [
    "from sklearn.ensemble import RandomForestClassifier\n",
    "\n",
    "rfc = RandomForestClassifier(random_state = 0)        # Create the random forest classifier\n",
    "\n",
    "rfc.fit(x_train, y_train)\n",
    "\n",
    "y_pred = rfc.predict(x_test)"
   ]
  },
  {
   "cell_type": "code",
   "execution_count": 14,
   "id": "d48a302e",
   "metadata": {},
   "outputs": [
    {
     "name": "stdout",
     "output_type": "stream",
     "text": [
      "Accuracy score: 0.984\n"
     ]
    }
   ],
   "source": [
    "from sklearn.metrics import accuracy_score           # Performance using 100 estimators\n",
    "\n",
    "print('Accuracy score: {0:0.3f}'.format(accuracy_score(y_test, y_pred))) # Accuracy 98.4%"
   ]
  },
  {
   "cell_type": "code",
   "execution_count": 16,
   "id": "ba1a9a56",
   "metadata": {},
   "outputs": [
    {
     "name": "stdout",
     "output_type": "stream",
     "text": [
      "Accuracy score with 10 estimators: 0.963\n"
     ]
    }
   ],
   "source": [
    "rfc_10 = RandomForestClassifier(n_estimators = 10, random_state = 0)   # Iterating with 10 estimators\n",
    "\n",
    "rfc_10.fit(x_train, y_train)\n",
    "\n",
    "y_pred_10 = rfc_10.predict(x_test)\n",
    "\n",
    "print('Accuracy score with 10 estimators: {0:0.3f}'.format(accuracy_score(y_test, y_pred_10))) # Accuracy 96.3%"
   ]
  },
  {
   "cell_type": "code",
   "execution_count": 17,
   "id": "4b1d21e9",
   "metadata": {},
   "outputs": [
    {
     "name": "stdout",
     "output_type": "stream",
     "text": [
      "Accuracy score with 1000 estimators: 0.988\n"
     ]
    }
   ],
   "source": [
    "rfc_1000 = RandomForestClassifier(n_estimators = 1000, random_state = 0) # Iterating with 1000 estimators\n",
    "\n",
    "rfc_1000.fit(x_train, y_train)\n",
    "\n",
    "y_pred_1000 = rfc_1000.predict(x_test)\n",
    "\n",
    "print('Accuracy score with 1000 estimators: {0:0.3f}'.format(accuracy_score(y_test, y_pred_1000))) # 98.8%"
   ]
  },
  {
   "cell_type": "code",
   "execution_count": 20,
   "id": "a02f0394",
   "metadata": {},
   "outputs": [
    {
     "data": {
      "text/plain": [
       "safety      0.299944\n",
       "persons     0.238324\n",
       "buying      0.159496\n",
       "maint       0.151340\n",
       "lug_boot    0.089738\n",
       "doors       0.061157\n",
       "dtype: float64"
      ]
     },
     "execution_count": 20,
     "metadata": {},
     "output_type": "execute_result"
    }
   ],
   "source": [
    "feature_imp = pd.Series(rfc_1000.feature_importances_, \n",
    "                        index = df_1.drop(['class'], axis = 1).columns).sort_values(ascending = False)\n",
    "\n",
    "feature_imp            # Showing the feature importance"
   ]
  },
  {
   "cell_type": "code",
   "execution_count": 25,
   "id": "aab2ac78",
   "metadata": {},
   "outputs": [
    {
     "name": "stderr",
     "output_type": "stream",
     "text": [
      "No artists with labels found to put in legend.  Note that artists whose label start with an underscore are ignored when legend() is called with no argument.\n"
     ]
    },
    {
     "data": {
      "image/png": "[encoded data removed]",
      "text/plain": [
       "<Figure size 640x480 with 1 Axes>"
      ]
     },
     "metadata": {},
     "output_type": "display_data"
    }
   ],
   "source": [
    "import seaborn as sns\n",
    "%matplotlib inline\n",
    "\n",
    "sns.barplot(x = feature_imp, y = feature_imp.index)\n",
    "\n",
    "plt.xlabel('Feature Importance Score')\n",
    "plt.ylabel('Features')\n",
    "\n",
    "plt.title('Visualizing important features')\n",
    "\n",
    "plt.legend()\n",
    "\n",
    "plt.show()"
   ]
  }
 ],
 "metadata": {
  "kernelspec": {
   "display_name": "Python 3 (ipykernel)",
   "language": "python",
   "name": "python3"
  },
  "language_info": {
   "codemirror_mode": {
    "name": "ipython",
    "version": 3
   },
   "file_extension": ".py",
   "mimetype": "text/x-python",
   "name": "python",
   "nbconvert_exporter": "python",
   "pygments_lexer": "ipython3",
   "version": "3.9.13"
  }
 },
 "nbformat": 4,
 "nbformat_minor": 5
}
